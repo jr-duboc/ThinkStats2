{
 "cells": [
  {
   "cell_type": "markdown",
   "metadata": {},
   "source": [
    "# Examples and Exercises from Think Stats, 2nd Edition\n",
    "\n",
    "http://thinkstats2.com\n",
    "\n",
    "Copyright 2016 Allen B. Downey\n",
    "\n",
    "MIT License: https://opensource.org/licenses/MIT\n"
   ]
  },
  {
   "cell_type": "code",
   "execution_count": 2,
   "metadata": {},
   "outputs": [],
   "source": [
    "from __future__ import print_function, division\n",
    "\n",
    "%matplotlib inline\n",
    "\n",
    "import numpy as np\n",
    "import pandas as pd\n",
    "\n",
    "import random\n",
    "\n",
    "import thinkstats2\n",
    "import thinkplot"
   ]
  },
  {
   "cell_type": "markdown",
   "metadata": {},
   "source": [
    "## Multiple regression\n",
    "\n",
    "Let's load up the NSFG data again."
   ]
  },
  {
   "cell_type": "code",
   "execution_count": 3,
   "metadata": {},
   "outputs": [],
   "source": [
    "import first\n",
    "\n",
    "live, firsts, others = first.MakeFrames()"
   ]
  },
  {
   "cell_type": "markdown",
   "metadata": {},
   "source": [
    "Here's birth weight as a function of mother's age (which we saw in the previous chapter)."
   ]
  },
  {
   "cell_type": "code",
   "execution_count": 6,
   "metadata": {},
   "outputs": [
    {
     "data": {
      "text/html": [
       "<table class=\"simpletable\">\n",
       "<caption>OLS Regression Results</caption>\n",
       "<tr>\n",
       "  <th>Dep. Variable:</th>       <td>totalwgt_lb</td>   <th>  R-squared:         </th> <td>   0.005</td> \n",
       "</tr>\n",
       "<tr>\n",
       "  <th>Model:</th>                   <td>OLS</td>       <th>  Adj. R-squared:    </th> <td>   0.005</td> \n",
       "</tr>\n",
       "<tr>\n",
       "  <th>Method:</th>             <td>Least Squares</td>  <th>  F-statistic:       </th> <td>   43.02</td> \n",
       "</tr>\n",
       "<tr>\n",
       "  <th>Date:</th>             <td>Mon, 24 Feb 2020</td> <th>  Prob (F-statistic):</th> <td>5.72e-11</td> \n",
       "</tr>\n",
       "<tr>\n",
       "  <th>Time:</th>                 <td>20:39:16</td>     <th>  Log-Likelihood:    </th> <td> -15897.</td> \n",
       "</tr>\n",
       "<tr>\n",
       "  <th>No. Observations:</th>      <td>  9038</td>      <th>  AIC:               </th> <td>3.180e+04</td>\n",
       "</tr>\n",
       "<tr>\n",
       "  <th>Df Residuals:</th>          <td>  9036</td>      <th>  BIC:               </th> <td>3.181e+04</td>\n",
       "</tr>\n",
       "<tr>\n",
       "  <th>Df Model:</th>              <td>     1</td>      <th>                     </th>     <td> </td>    \n",
       "</tr>\n",
       "<tr>\n",
       "  <th>Covariance Type:</th>      <td>nonrobust</td>    <th>                     </th>     <td> </td>    \n",
       "</tr>\n",
       "</table>\n",
       "<table class=\"simpletable\">\n",
       "<tr>\n",
       "      <td></td>         <th>coef</th>     <th>std err</th>      <th>t</th>      <th>P>|t|</th>  <th>[0.025</th>    <th>0.975]</th>  \n",
       "</tr>\n",
       "<tr>\n",
       "  <th>Intercept</th> <td>    6.8304</td> <td>    0.068</td> <td>  100.470</td> <td> 0.000</td> <td>    6.697</td> <td>    6.964</td>\n",
       "</tr>\n",
       "<tr>\n",
       "  <th>agepreg</th>   <td>    0.0175</td> <td>    0.003</td> <td>    6.559</td> <td> 0.000</td> <td>    0.012</td> <td>    0.023</td>\n",
       "</tr>\n",
       "</table>\n",
       "<table class=\"simpletable\">\n",
       "<tr>\n",
       "  <th>Omnibus:</th>       <td>1024.052</td> <th>  Durbin-Watson:     </th> <td>   1.618</td>\n",
       "</tr>\n",
       "<tr>\n",
       "  <th>Prob(Omnibus):</th>  <td> 0.000</td>  <th>  Jarque-Bera (JB):  </th> <td>3081.833</td>\n",
       "</tr>\n",
       "<tr>\n",
       "  <th>Skew:</th>           <td>-0.601</td>  <th>  Prob(JB):          </th> <td>    0.00</td>\n",
       "</tr>\n",
       "<tr>\n",
       "  <th>Kurtosis:</th>       <td> 5.596</td>  <th>  Cond. No.          </th> <td>    118.</td>\n",
       "</tr>\n",
       "</table><br/><br/>Warnings:<br/>[1] Standard Errors assume that the covariance matrix of the errors is correctly specified."
      ],
      "text/plain": [
       "<class 'statsmodels.iolib.summary.Summary'>\n",
       "\"\"\"\n",
       "                            OLS Regression Results                            \n",
       "==============================================================================\n",
       "Dep. Variable:            totalwgt_lb   R-squared:                       0.005\n",
       "Model:                            OLS   Adj. R-squared:                  0.005\n",
       "Method:                 Least Squares   F-statistic:                     43.02\n",
       "Date:                Mon, 24 Feb 2020   Prob (F-statistic):           5.72e-11\n",
       "Time:                        20:39:16   Log-Likelihood:                -15897.\n",
       "No. Observations:                9038   AIC:                         3.180e+04\n",
       "Df Residuals:                    9036   BIC:                         3.181e+04\n",
       "Df Model:                           1                                         \n",
       "Covariance Type:            nonrobust                                         \n",
       "==============================================================================\n",
       "                 coef    std err          t      P>|t|      [0.025      0.975]\n",
       "------------------------------------------------------------------------------\n",
       "Intercept      6.8304      0.068    100.470      0.000       6.697       6.964\n",
       "agepreg        0.0175      0.003      6.559      0.000       0.012       0.023\n",
       "==============================================================================\n",
       "Omnibus:                     1024.052   Durbin-Watson:                   1.618\n",
       "Prob(Omnibus):                  0.000   Jarque-Bera (JB):             3081.833\n",
       "Skew:                          -0.601   Prob(JB):                         0.00\n",
       "Kurtosis:                       5.596   Cond. No.                         118.\n",
       "==============================================================================\n",
       "\n",
       "Warnings:\n",
       "[1] Standard Errors assume that the covariance matrix of the errors is correctly specified.\n",
       "\"\"\""
      ]
     },
     "execution_count": 6,
     "metadata": {},
     "output_type": "execute_result"
    }
   ],
   "source": [
    "import statsmodels.formula.api as smf\n",
    "\n",
    "formula = 'totalwgt_lb ~ agepreg'\n",
    "model = smf.ols(formula, data=live)\n",
    "results = model.fit()\n",
    "results.summary()"
   ]
  },
  {
   "cell_type": "markdown",
   "metadata": {},
   "source": [
    "We can extract the parameters."
   ]
  },
  {
   "cell_type": "code",
   "execution_count": 7,
   "metadata": {},
   "outputs": [
    {
     "data": {
      "text/plain": [
       "(6.8303969733110375, 0.01745385147180325)"
      ]
     },
     "execution_count": 7,
     "metadata": {},
     "output_type": "execute_result"
    }
   ],
   "source": [
    "inter = results.params['Intercept']\n",
    "slope = results.params['agepreg']\n",
    "inter, slope"
   ]
  },
  {
   "cell_type": "markdown",
   "metadata": {},
   "source": [
    "And the p-value of the slope estimate."
   ]
  },
  {
   "cell_type": "code",
   "execution_count": 10,
   "metadata": {},
   "outputs": [
    {
     "data": {
      "text/plain": [
       "5.722947107306718e-11"
      ]
     },
     "execution_count": 10,
     "metadata": {},
     "output_type": "execute_result"
    }
   ],
   "source": [
    "slope_pvalue = results.pvalues['agepreg']\n",
    "slope_pvalue"
   ]
  },
  {
   "cell_type": "markdown",
   "metadata": {},
   "source": [
    "And the coefficient of determination."
   ]
  },
  {
   "cell_type": "code",
   "execution_count": 20,
   "metadata": {},
   "outputs": [
    {
     "data": {
      "text/plain": [
       "5.7229471072462434e-11"
      ]
     },
     "execution_count": 20,
     "metadata": {},
     "output_type": "execute_result"
    }
   ],
   "source": [
    "results.f_pvalue"
   ]
  },
  {
   "cell_type": "markdown",
   "metadata": {},
   "source": [
    "The difference in birth weight between first babies and others."
   ]
  },
  {
   "cell_type": "code",
   "execution_count": 21,
   "metadata": {},
   "outputs": [
    {
     "data": {
      "text/plain": [
       "-0.12476118453549034"
      ]
     },
     "execution_count": 21,
     "metadata": {},
     "output_type": "execute_result"
    }
   ],
   "source": [
    "diff_weight = firsts.totalwgt_lb.mean() - others.totalwgt_lb.mean()\n",
    "diff_weight"
   ]
  },
  {
   "cell_type": "markdown",
   "metadata": {},
   "source": [
    "The difference in age between mothers of first babies and others."
   ]
  },
  {
   "cell_type": "code",
   "execution_count": 27,
   "metadata": {},
   "outputs": [
    {
     "data": {
      "text/plain": [
       "-3.586434766150152"
      ]
     },
     "execution_count": 27,
     "metadata": {},
     "output_type": "execute_result"
    }
   ],
   "source": [
    "diff_age = firsts.agepreg.mean() - others.agepreg.mean()\n",
    "diff_age"
   ]
  },
  {
   "cell_type": "markdown",
   "metadata": {},
   "source": [
    "The age difference plausibly explains about half of the difference in weight."
   ]
  },
  {
   "cell_type": "code",
   "execution_count": 23,
   "metadata": {},
   "outputs": [
    {
     "data": {
      "text/plain": [
       "-0.06259709972169616"
      ]
     },
     "execution_count": 23,
     "metadata": {},
     "output_type": "execute_result"
    }
   ],
   "source": [
    "slope * diff_age"
   ]
  },
  {
   "cell_type": "markdown",
   "metadata": {},
   "source": [
    "Running a single regression with a categorical variable, `isfirst`:"
   ]
  },
  {
   "cell_type": "code",
   "execution_count": 28,
   "metadata": {},
   "outputs": [
    {
     "data": {
      "text/html": [
       "<table class=\"simpletable\">\n",
       "<caption>OLS Regression Results</caption>\n",
       "<tr>\n",
       "  <th>Dep. Variable:</th>       <td>totalwgt_lb</td>   <th>  R-squared:         </th> <td>   0.002</td> \n",
       "</tr>\n",
       "<tr>\n",
       "  <th>Model:</th>                   <td>OLS</td>       <th>  Adj. R-squared:    </th> <td>   0.002</td> \n",
       "</tr>\n",
       "<tr>\n",
       "  <th>Method:</th>             <td>Least Squares</td>  <th>  F-statistic:       </th> <td>   17.74</td> \n",
       "</tr>\n",
       "<tr>\n",
       "  <th>Date:</th>             <td>Mon, 24 Feb 2020</td> <th>  Prob (F-statistic):</th> <td>2.55e-05</td> \n",
       "</tr>\n",
       "<tr>\n",
       "  <th>Time:</th>                 <td>21:05:28</td>     <th>  Log-Likelihood:    </th> <td> -15909.</td> \n",
       "</tr>\n",
       "<tr>\n",
       "  <th>No. Observations:</th>      <td>  9038</td>      <th>  AIC:               </th> <td>3.182e+04</td>\n",
       "</tr>\n",
       "<tr>\n",
       "  <th>Df Residuals:</th>          <td>  9036</td>      <th>  BIC:               </th> <td>3.184e+04</td>\n",
       "</tr>\n",
       "<tr>\n",
       "  <th>Df Model:</th>              <td>     1</td>      <th>                     </th>     <td> </td>    \n",
       "</tr>\n",
       "<tr>\n",
       "  <th>Covariance Type:</th>      <td>nonrobust</td>    <th>                     </th>     <td> </td>    \n",
       "</tr>\n",
       "</table>\n",
       "<table class=\"simpletable\">\n",
       "<tr>\n",
       "         <td></td>            <th>coef</th>     <th>std err</th>      <th>t</th>      <th>P>|t|</th>  <th>[0.025</th>    <th>0.975]</th>  \n",
       "</tr>\n",
       "<tr>\n",
       "  <th>Intercept</th>       <td>    7.3259</td> <td>    0.021</td> <td>  356.007</td> <td> 0.000</td> <td>    7.286</td> <td>    7.366</td>\n",
       "</tr>\n",
       "<tr>\n",
       "  <th>isfirst[T.True]</th> <td>   -0.1248</td> <td>    0.030</td> <td>   -4.212</td> <td> 0.000</td> <td>   -0.183</td> <td>   -0.067</td>\n",
       "</tr>\n",
       "</table>\n",
       "<table class=\"simpletable\">\n",
       "<tr>\n",
       "  <th>Omnibus:</th>       <td>988.919</td> <th>  Durbin-Watson:     </th> <td>   1.613</td>\n",
       "</tr>\n",
       "<tr>\n",
       "  <th>Prob(Omnibus):</th> <td> 0.000</td>  <th>  Jarque-Bera (JB):  </th> <td>2897.107</td>\n",
       "</tr>\n",
       "<tr>\n",
       "  <th>Skew:</th>          <td>-0.589</td>  <th>  Prob(JB):          </th> <td>    0.00</td>\n",
       "</tr>\n",
       "<tr>\n",
       "  <th>Kurtosis:</th>      <td> 5.511</td>  <th>  Cond. No.          </th> <td>    2.58</td>\n",
       "</tr>\n",
       "</table><br/><br/>Warnings:<br/>[1] Standard Errors assume that the covariance matrix of the errors is correctly specified."
      ],
      "text/plain": [
       "<class 'statsmodels.iolib.summary.Summary'>\n",
       "\"\"\"\n",
       "                            OLS Regression Results                            \n",
       "==============================================================================\n",
       "Dep. Variable:            totalwgt_lb   R-squared:                       0.002\n",
       "Model:                            OLS   Adj. R-squared:                  0.002\n",
       "Method:                 Least Squares   F-statistic:                     17.74\n",
       "Date:                Mon, 24 Feb 2020   Prob (F-statistic):           2.55e-05\n",
       "Time:                        21:05:28   Log-Likelihood:                -15909.\n",
       "No. Observations:                9038   AIC:                         3.182e+04\n",
       "Df Residuals:                    9036   BIC:                         3.184e+04\n",
       "Df Model:                           1                                         \n",
       "Covariance Type:            nonrobust                                         \n",
       "===================================================================================\n",
       "                      coef    std err          t      P>|t|      [0.025      0.975]\n",
       "-----------------------------------------------------------------------------------\n",
       "Intercept           7.3259      0.021    356.007      0.000       7.286       7.366\n",
       "isfirst[T.True]    -0.1248      0.030     -4.212      0.000      -0.183      -0.067\n",
       "==============================================================================\n",
       "Omnibus:                      988.919   Durbin-Watson:                   1.613\n",
       "Prob(Omnibus):                  0.000   Jarque-Bera (JB):             2897.107\n",
       "Skew:                          -0.589   Prob(JB):                         0.00\n",
       "Kurtosis:                       5.511   Cond. No.                         2.58\n",
       "==============================================================================\n",
       "\n",
       "Warnings:\n",
       "[1] Standard Errors assume that the covariance matrix of the errors is correctly specified.\n",
       "\"\"\""
      ]
     },
     "execution_count": 28,
     "metadata": {},
     "output_type": "execute_result"
    }
   ],
   "source": [
    "live['isfirst'] = live.birthord == 1\n",
    "formula = 'totalwgt_lb ~ isfirst'\n",
    "results = smf.ols(formula, data=live).fit()\n",
    "results.summary()"
   ]
  },
  {
   "cell_type": "markdown",
   "metadata": {},
   "source": [
    "Now finally running a multiple regression:"
   ]
  },
  {
   "cell_type": "code",
   "execution_count": 29,
   "metadata": {},
   "outputs": [
    {
     "data": {
      "text/html": [
       "<table class=\"simpletable\">\n",
       "<caption>OLS Regression Results</caption>\n",
       "<tr>\n",
       "  <th>Dep. Variable:</th>       <td>totalwgt_lb</td>   <th>  R-squared:         </th> <td>   0.005</td> \n",
       "</tr>\n",
       "<tr>\n",
       "  <th>Model:</th>                   <td>OLS</td>       <th>  Adj. R-squared:    </th> <td>   0.005</td> \n",
       "</tr>\n",
       "<tr>\n",
       "  <th>Method:</th>             <td>Least Squares</td>  <th>  F-statistic:       </th> <td>   24.02</td> \n",
       "</tr>\n",
       "<tr>\n",
       "  <th>Date:</th>             <td>Mon, 24 Feb 2020</td> <th>  Prob (F-statistic):</th> <td>3.95e-11</td> \n",
       "</tr>\n",
       "<tr>\n",
       "  <th>Time:</th>                 <td>21:06:03</td>     <th>  Log-Likelihood:    </th> <td> -15894.</td> \n",
       "</tr>\n",
       "<tr>\n",
       "  <th>No. Observations:</th>      <td>  9038</td>      <th>  AIC:               </th> <td>3.179e+04</td>\n",
       "</tr>\n",
       "<tr>\n",
       "  <th>Df Residuals:</th>          <td>  9035</td>      <th>  BIC:               </th> <td>3.182e+04</td>\n",
       "</tr>\n",
       "<tr>\n",
       "  <th>Df Model:</th>              <td>     2</td>      <th>                     </th>     <td> </td>    \n",
       "</tr>\n",
       "<tr>\n",
       "  <th>Covariance Type:</th>      <td>nonrobust</td>    <th>                     </th>     <td> </td>    \n",
       "</tr>\n",
       "</table>\n",
       "<table class=\"simpletable\">\n",
       "<tr>\n",
       "         <td></td>            <th>coef</th>     <th>std err</th>      <th>t</th>      <th>P>|t|</th>  <th>[0.025</th>    <th>0.975]</th>  \n",
       "</tr>\n",
       "<tr>\n",
       "  <th>Intercept</th>       <td>    6.9142</td> <td>    0.078</td> <td>   89.073</td> <td> 0.000</td> <td>    6.762</td> <td>    7.066</td>\n",
       "</tr>\n",
       "<tr>\n",
       "  <th>isfirst[T.True]</th> <td>   -0.0698</td> <td>    0.031</td> <td>   -2.236</td> <td> 0.025</td> <td>   -0.131</td> <td>   -0.009</td>\n",
       "</tr>\n",
       "<tr>\n",
       "  <th>agepreg</th>         <td>    0.0154</td> <td>    0.003</td> <td>    5.499</td> <td> 0.000</td> <td>    0.010</td> <td>    0.021</td>\n",
       "</tr>\n",
       "</table>\n",
       "<table class=\"simpletable\">\n",
       "<tr>\n",
       "  <th>Omnibus:</th>       <td>1019.945</td> <th>  Durbin-Watson:     </th> <td>   1.618</td>\n",
       "</tr>\n",
       "<tr>\n",
       "  <th>Prob(Omnibus):</th>  <td> 0.000</td>  <th>  Jarque-Bera (JB):  </th> <td>3063.682</td>\n",
       "</tr>\n",
       "<tr>\n",
       "  <th>Skew:</th>           <td>-0.599</td>  <th>  Prob(JB):          </th> <td>    0.00</td>\n",
       "</tr>\n",
       "<tr>\n",
       "  <th>Kurtosis:</th>       <td> 5.588</td>  <th>  Cond. No.          </th> <td>    137.</td>\n",
       "</tr>\n",
       "</table><br/><br/>Warnings:<br/>[1] Standard Errors assume that the covariance matrix of the errors is correctly specified."
      ],
      "text/plain": [
       "<class 'statsmodels.iolib.summary.Summary'>\n",
       "\"\"\"\n",
       "                            OLS Regression Results                            \n",
       "==============================================================================\n",
       "Dep. Variable:            totalwgt_lb   R-squared:                       0.005\n",
       "Model:                            OLS   Adj. R-squared:                  0.005\n",
       "Method:                 Least Squares   F-statistic:                     24.02\n",
       "Date:                Mon, 24 Feb 2020   Prob (F-statistic):           3.95e-11\n",
       "Time:                        21:06:03   Log-Likelihood:                -15894.\n",
       "No. Observations:                9038   AIC:                         3.179e+04\n",
       "Df Residuals:                    9035   BIC:                         3.182e+04\n",
       "Df Model:                           2                                         \n",
       "Covariance Type:            nonrobust                                         \n",
       "===================================================================================\n",
       "                      coef    std err          t      P>|t|      [0.025      0.975]\n",
       "-----------------------------------------------------------------------------------\n",
       "Intercept           6.9142      0.078     89.073      0.000       6.762       7.066\n",
       "isfirst[T.True]    -0.0698      0.031     -2.236      0.025      -0.131      -0.009\n",
       "agepreg             0.0154      0.003      5.499      0.000       0.010       0.021\n",
       "==============================================================================\n",
       "Omnibus:                     1019.945   Durbin-Watson:                   1.618\n",
       "Prob(Omnibus):                  0.000   Jarque-Bera (JB):             3063.682\n",
       "Skew:                          -0.599   Prob(JB):                         0.00\n",
       "Kurtosis:                       5.588   Cond. No.                         137.\n",
       "==============================================================================\n",
       "\n",
       "Warnings:\n",
       "[1] Standard Errors assume that the covariance matrix of the errors is correctly specified.\n",
       "\"\"\""
      ]
     },
     "execution_count": 29,
     "metadata": {},
     "output_type": "execute_result"
    }
   ],
   "source": [
    "formula = 'totalwgt_lb ~ isfirst + agepreg'\n",
    "results = smf.ols(formula, data=live).fit()\n",
    "results.summary()"
   ]
  },
  {
   "cell_type": "markdown",
   "metadata": {},
   "source": [
    "As expected, when we control for mother's age, the apparent difference due to `isfirst` is cut in half.\n",
    "\n",
    "If we add age squared, we can control for a quadratic relationship between age and weight."
   ]
  },
  {
   "cell_type": "code",
   "execution_count": 30,
   "metadata": {},
   "outputs": [
    {
     "data": {
      "text/html": [
       "<table class=\"simpletable\">\n",
       "<caption>OLS Regression Results</caption>\n",
       "<tr>\n",
       "  <th>Dep. Variable:</th>       <td>totalwgt_lb</td>   <th>  R-squared:         </th> <td>   0.007</td> \n",
       "</tr>\n",
       "<tr>\n",
       "  <th>Model:</th>                   <td>OLS</td>       <th>  Adj. R-squared:    </th> <td>   0.007</td> \n",
       "</tr>\n",
       "<tr>\n",
       "  <th>Method:</th>             <td>Least Squares</td>  <th>  F-statistic:       </th> <td>   22.64</td> \n",
       "</tr>\n",
       "<tr>\n",
       "  <th>Date:</th>             <td>Mon, 24 Feb 2020</td> <th>  Prob (F-statistic):</th> <td>1.35e-14</td> \n",
       "</tr>\n",
       "<tr>\n",
       "  <th>Time:</th>                 <td>21:07:57</td>     <th>  Log-Likelihood:    </th> <td> -15884.</td> \n",
       "</tr>\n",
       "<tr>\n",
       "  <th>No. Observations:</th>      <td>  9038</td>      <th>  AIC:               </th> <td>3.178e+04</td>\n",
       "</tr>\n",
       "<tr>\n",
       "  <th>Df Residuals:</th>          <td>  9034</td>      <th>  BIC:               </th> <td>3.181e+04</td>\n",
       "</tr>\n",
       "<tr>\n",
       "  <th>Df Model:</th>              <td>     3</td>      <th>                     </th>     <td> </td>    \n",
       "</tr>\n",
       "<tr>\n",
       "  <th>Covariance Type:</th>      <td>nonrobust</td>    <th>                     </th>     <td> </td>    \n",
       "</tr>\n",
       "</table>\n",
       "<table class=\"simpletable\">\n",
       "<tr>\n",
       "         <td></td>            <th>coef</th>     <th>std err</th>      <th>t</th>      <th>P>|t|</th>  <th>[0.025</th>    <th>0.975]</th>  \n",
       "</tr>\n",
       "<tr>\n",
       "  <th>Intercept</th>       <td>    5.6923</td> <td>    0.286</td> <td>   19.937</td> <td> 0.000</td> <td>    5.133</td> <td>    6.252</td>\n",
       "</tr>\n",
       "<tr>\n",
       "  <th>isfirst[T.True]</th> <td>   -0.0504</td> <td>    0.031</td> <td>   -1.602</td> <td> 0.109</td> <td>   -0.112</td> <td>    0.011</td>\n",
       "</tr>\n",
       "<tr>\n",
       "  <th>agepreg</th>         <td>    0.1124</td> <td>    0.022</td> <td>    5.113</td> <td> 0.000</td> <td>    0.069</td> <td>    0.155</td>\n",
       "</tr>\n",
       "<tr>\n",
       "  <th>agepreg2</th>        <td>   -0.0018</td> <td>    0.000</td> <td>   -4.447</td> <td> 0.000</td> <td>   -0.003</td> <td>   -0.001</td>\n",
       "</tr>\n",
       "</table>\n",
       "<table class=\"simpletable\">\n",
       "<tr>\n",
       "  <th>Omnibus:</th>       <td>1007.149</td> <th>  Durbin-Watson:     </th> <td>   1.616</td>\n",
       "</tr>\n",
       "<tr>\n",
       "  <th>Prob(Omnibus):</th>  <td> 0.000</td>  <th>  Jarque-Bera (JB):  </th> <td>3003.343</td>\n",
       "</tr>\n",
       "<tr>\n",
       "  <th>Skew:</th>           <td>-0.594</td>  <th>  Prob(JB):          </th> <td>    0.00</td>\n",
       "</tr>\n",
       "<tr>\n",
       "  <th>Kurtosis:</th>       <td> 5.562</td>  <th>  Cond. No.          </th> <td>1.39e+04</td>\n",
       "</tr>\n",
       "</table><br/><br/>Warnings:<br/>[1] Standard Errors assume that the covariance matrix of the errors is correctly specified.<br/>[2] The condition number is large, 1.39e+04. This might indicate that there are<br/>strong multicollinearity or other numerical problems."
      ],
      "text/plain": [
       "<class 'statsmodels.iolib.summary.Summary'>\n",
       "\"\"\"\n",
       "                            OLS Regression Results                            \n",
       "==============================================================================\n",
       "Dep. Variable:            totalwgt_lb   R-squared:                       0.007\n",
       "Model:                            OLS   Adj. R-squared:                  0.007\n",
       "Method:                 Least Squares   F-statistic:                     22.64\n",
       "Date:                Mon, 24 Feb 2020   Prob (F-statistic):           1.35e-14\n",
       "Time:                        21:07:57   Log-Likelihood:                -15884.\n",
       "No. Observations:                9038   AIC:                         3.178e+04\n",
       "Df Residuals:                    9034   BIC:                         3.181e+04\n",
       "Df Model:                           3                                         \n",
       "Covariance Type:            nonrobust                                         \n",
       "===================================================================================\n",
       "                      coef    std err          t      P>|t|      [0.025      0.975]\n",
       "-----------------------------------------------------------------------------------\n",
       "Intercept           5.6923      0.286     19.937      0.000       5.133       6.252\n",
       "isfirst[T.True]    -0.0504      0.031     -1.602      0.109      -0.112       0.011\n",
       "agepreg             0.1124      0.022      5.113      0.000       0.069       0.155\n",
       "agepreg2           -0.0018      0.000     -4.447      0.000      -0.003      -0.001\n",
       "==============================================================================\n",
       "Omnibus:                     1007.149   Durbin-Watson:                   1.616\n",
       "Prob(Omnibus):                  0.000   Jarque-Bera (JB):             3003.343\n",
       "Skew:                          -0.594   Prob(JB):                         0.00\n",
       "Kurtosis:                       5.562   Cond. No.                     1.39e+04\n",
       "==============================================================================\n",
       "\n",
       "Warnings:\n",
       "[1] Standard Errors assume that the covariance matrix of the errors is correctly specified.\n",
       "[2] The condition number is large, 1.39e+04. This might indicate that there are\n",
       "strong multicollinearity or other numerical problems.\n",
       "\"\"\""
      ]
     },
     "execution_count": 30,
     "metadata": {},
     "output_type": "execute_result"
    }
   ],
   "source": [
    "live['agepreg2'] = live.agepreg**2\n",
    "formula = 'totalwgt_lb ~ isfirst + agepreg + agepreg2'\n",
    "results = smf.ols(formula, data=live).fit()\n",
    "results.summary()"
   ]
  },
  {
   "cell_type": "markdown",
   "metadata": {},
   "source": [
    "When we do that, the apparent effect of `isfirst` gets even smaller, and is no longer statistically significant.\n",
    "\n",
    "These results suggest that the apparent difference in weight between first babies and others might be explained by difference in mothers' ages, at least in part."
   ]
  },
  {
   "cell_type": "markdown",
   "metadata": {},
   "source": [
    "## Data Mining\n",
    "\n",
    "We can use `join` to combine variables from the preganancy and respondent tables."
   ]
  },
  {
   "cell_type": "code",
   "execution_count": 36,
   "metadata": {},
   "outputs": [],
   "source": [
    "import nsfg\n",
    "\n",
    "live = live[live.prglngth>30]\n",
    "resp = nsfg.ReadFemResp()\n",
    "resp.index = resp.caseid\n",
    "join = live.join(resp, on='caseid', rsuffix='_r')"
   ]
  },
  {
   "cell_type": "markdown",
   "metadata": {},
   "source": [
    "And we can search for variables with explanatory power.\n",
    "\n",
    "Because we don't clean most of the variables, we are probably missing some good ones."
   ]
  },
  {
   "cell_type": "code",
   "execution_count": 37,
   "metadata": {},
   "outputs": [],
   "source": [
    "import patsy\n",
    "\n",
    "def GoMining(df):\n",
    "    \"\"\"Searches for variables that predict birth weight.\n",
    "\n",
    "    df: DataFrame of pregnancy records\n",
    "\n",
    "    returns: list of (rsquared, variable name) pairs\n",
    "    \"\"\"\n",
    "    variables = []\n",
    "    for name in df.columns:\n",
    "        try:\n",
    "            if df[name].var() < 1e-7:\n",
    "                continue\n",
    "\n",
    "            formula = 'totalwgt_lb ~ agepreg + ' + name\n",
    "            \n",
    "            # The following seems to be required in some environments\n",
    "            # formula = formula.encode('ascii')\n",
    "\n",
    "            model = smf.ols(formula, data=df)\n",
    "            if model.nobs < len(df)/2:\n",
    "                continue\n",
    "\n",
    "            results = model.fit()\n",
    "        except (ValueError, TypeError):\n",
    "            continue\n",
    "\n",
    "        variables.append((results.rsquared, name))\n",
    "\n",
    "    return variables"
   ]
  },
  {
   "cell_type": "code",
   "execution_count": 39,
   "metadata": {},
   "outputs": [
    {
     "data": {
      "text/plain": [
       "[(0.005357647323640857, 'caseid'),\n",
       " (0.005750013985077018, 'pregordr'),\n",
       " (0.006330980237390427, 'pregend1'),\n",
       " (0.016017752709788224, 'nbrnaliv'),\n",
       " (0.005543156193094867, 'cmprgend'),\n",
       " (0.00544280059164004, 'cmprgbeg'),\n",
       " (0.005327612601561116, 'gestasun_m'),\n",
       " (0.007023552638453334, 'gestasun_w'),\n",
       " (0.12340041363361054, 'wksgest'),\n",
       " (0.027144274639579802, 'mosgest'),\n",
       " (0.005336869167517744, 'bpa_bdscheck1'),\n",
       " (0.01855092529394209, 'babysex'),\n",
       " (0.9498127305978009, 'birthwgt_lb'),\n",
       " (0.013102457615706053, 'birthwgt_oz'),\n",
       " (0.005543156193094867, 'cmbabdob'),\n",
       " (0.00568495265002833, 'kidage'),\n",
       " (0.006165319836040517, 'hpagelb'),\n",
       " (0.008066317368677245, 'matchfound'),\n",
       " (0.012529022541810764, 'anynurse'),\n",
       " (0.004409820583625712, 'frsteatd_n'),\n",
       " (0.004263973471709703, 'frsteatd_p'),\n",
       " (0.004020131462736276, 'frsteatd'),\n",
       " (0.005830571770254478, 'cmlastlb'),\n",
       " (0.005356747266123785, 'cmfstprg'),\n",
       " (0.005428333650989825, 'cmlstprg'),\n",
       " (0.005731401733759411, 'cmintstr'),\n",
       " (0.005543156193094867, 'cmintfin'),\n",
       " (0.00993306080712264, 'evuseint'),\n",
       " (0.009315099704133023, 'stopduse'),\n",
       " (0.00372683328673018, 'wantbold'),\n",
       " (0.007072995134123405, 'timingok'),\n",
       " (0.005042504093811573, 'wthpart1'),\n",
       " (0.006835771483523545, 'hpwnold'),\n",
       " (0.006349094713450021, 'timokhp'),\n",
       " (0.002629137615111521, 'cohpbeg'),\n",
       " (0.0018043469091939546, 'cohpend'),\n",
       " (0.008089600034942968, 'tellfath'),\n",
       " (0.009056250355562567, 'whentell'),\n",
       " (0.005369974278795042, 'anyusint'),\n",
       " (0.1301251948862503, 'prglngth'),\n",
       " (0.005545615084230127, 'birthord'),\n",
       " (0.005591745847583707, 'datend'),\n",
       " (0.005327282505070752, 'agepreg'),\n",
       " (0.005665388843228203, 'datecon'),\n",
       " (0.10203149928156086, 'agecon'),\n",
       " (0.010461691367377401, 'fmarout5'),\n",
       " (0.009840804911715684, 'pmarpreg'),\n",
       " (0.011354138472805753, 'rmarout6'),\n",
       " (0.01060496468429939, 'fmarcon5'),\n",
       " (0.30082407844707704, 'lbw1'),\n",
       " (0.01219368840449575, 'bfeedwks'),\n",
       " (0.007984835684252789, 'oldwantr'),\n",
       " (0.00640138668536383, 'oldwantp'),\n",
       " (0.007980832538658444, 'wantresp'),\n",
       " (0.006334468987300168, 'wantpart'),\n",
       " (0.005591616004422373, 'cmbirth'),\n",
       " (0.0055903980552192145, 'ager'),\n",
       " (0.0055903980552192145, 'agescrn'),\n",
       " (0.009944942659111056, 'fmarital'),\n",
       " (0.008267774071422318, 'rmarital'),\n",
       " (0.006450913803300651, 'educat'),\n",
       " (0.006691986822550011, 'hieduc'),\n",
       " (0.016199503586253217, 'race'),\n",
       " (0.005351273101023457, 'hispanic'),\n",
       " (0.011238349302031159, 'hisprace'),\n",
       " (0.005415425347505609, 'rcurpreg'),\n",
       " (0.0060378317082540045, 'pregnum'),\n",
       " (0.006503720321448969, 'parity'),\n",
       " (0.005444228863617839, 'insuranc'),\n",
       " (0.009858545642850935, 'pubassis'),\n",
       " (0.009743158975297206, 'poverty'),\n",
       " (0.006124250620027971, 'laborfor'),\n",
       " (0.005476246226179038, 'religion'),\n",
       " (0.005908687699079707, 'metro'),\n",
       " (0.005329635323782278, 'brnout'),\n",
       " (0.005388240758326335, 'prglngth_i'),\n",
       " (0.0053720967087051985, 'datend_i'),\n",
       " (0.005666104281317419, 'agepreg_i'),\n",
       " (0.0053480888696338935, 'datecon_i'),\n",
       " (0.0056127402108966384, 'agecon_i'),\n",
       " (0.00573314026044669, 'fmarout5_i'),\n",
       " (0.0054225985712876845, 'pmarpreg_i'),\n",
       " (0.005498885939111409, 'rmarout6_i'),\n",
       " (0.0057702817140149465, 'fmarcon5_i'),\n",
       " (0.005355587358294223, 'learnprg_i'),\n",
       " (0.005464552651942234, 'pncarewk_i'),\n",
       " (0.0059115757010616, 'paydeliv_i'),\n",
       " (0.005327282505071085, 'lbw1_i'),\n",
       " (0.005422843440832881, 'bfeedwks_i'),\n",
       " (0.005456277033588086, 'maternlv_i'),\n",
       " (0.005397823762493981, 'oldwantr_i'),\n",
       " (0.005330102063603848, 'oldwantp_i'),\n",
       " (0.005397823762493981, 'wantresp_i'),\n",
       " (0.005388261328726718, 'wantpart_i'),\n",
       " (0.005415854205569004, 'hieduc_i'),\n",
       " (0.005327282505070752, 'hispanic_i'),\n",
       " (0.00566216198540892, 'parity_i'),\n",
       " (0.005490192077694522, 'insuranc_i'),\n",
       " (0.005588263662201665, 'pubassis_i'),\n",
       " (0.005674668721374232, 'poverty_i'),\n",
       " (0.005635393818939516, 'laborfor_i'),\n",
       " (0.005329126750794333, 'religion_i'),\n",
       " (0.007266083159805481, 'basewgt'),\n",
       " (0.006863344757269463, 'adj_mod_basewgt'),\n",
       " (0.007414601906966967, 'finalwgt'),\n",
       " (0.005996732588561926, 'secu_p'),\n",
       " (0.005405291868267881, 'sest'),\n",
       " (1.0, 'totalwgt_lb'),\n",
       " (0.005617788291713555, 'isfirst'),\n",
       " (0.007529217800613219, 'agepreg2'),\n",
       " (0.005357647323640857, 'caseid_r'),\n",
       " (0.005327683657806337, 'rscrinf'),\n",
       " (0.005394521556674636, 'rdormres'),\n",
       " (0.005643925975030162, 'rostscrn'),\n",
       " (0.00540487812817847, 'rscreenhisp'),\n",
       " (0.009651605370030847, 'rscreenrace'),\n",
       " (0.005578533477514247, 'age_a'),\n",
       " (0.0055903980552192145, 'age_r'),\n",
       " (0.005591616004422373, 'cmbirth_r'),\n",
       " (0.0055903980552192145, 'agescrn_r'),\n",
       " (0.008267774071422318, 'marstat'),\n",
       " (0.009944942659111056, 'fmarit'),\n",
       " (0.009091376003146245, 'evrmarry'),\n",
       " (0.005350443232336355, 'hisp'),\n",
       " (0.005516347262115584, 'numrace'),\n",
       " (0.005355667424253419, 'roscnt'),\n",
       " (0.007003475396870074, 'hplocale'),\n",
       " (0.007768164334321259, 'manrel'),\n",
       " (0.005348262928552283, 'fl_rrace'),\n",
       " (0.005330593394374583, 'fl_rhisp'),\n",
       " (0.005986092508868612, 'goschol'),\n",
       " (0.006218247608423932, 'higrade'),\n",
       " (0.005595972205724609, 'compgrd'),\n",
       " (0.0061609210437846285, 'havedip'),\n",
       " (0.0064131015027877325, 'dipged'),\n",
       " (0.006061422266963268, 'cmhsgrad'),\n",
       " (0.005328553608113129, 'wthparnw'),\n",
       " (0.005280615627084262, 'onown'),\n",
       " (0.0061291662740246, 'intact'),\n",
       " (0.006038819191133138, 'parmarr'),\n",
       " (0.005635183345626071, 'momdegre'),\n",
       " (0.006872582290938678, 'momworkd'),\n",
       " (0.005330376217834276, 'momchild'),\n",
       " (0.005349294568680385, 'momfstch'),\n",
       " (0.006245111146334303, 'daddegre'),\n",
       " (0.005328519387111652, 'bothbiol'),\n",
       " (0.006182128607901349, 'intact18'),\n",
       " (0.005340451644766819, 'onown18'),\n",
       " (0.006503720321448969, 'numbabes'),\n",
       " (0.00555034881096772, 'totplacd'),\n",
       " (0.005337228144332018, 'nplaced'),\n",
       " (0.00553058631372727, 'ndied'),\n",
       " (0.00553987407943457, 'nadoptv'),\n",
       " (0.005830571770254478, 'cmlastlb_r'),\n",
       " (0.005356747266123785, 'cmfstprg_r'),\n",
       " (0.005428333650989825, 'cmlstprg_r'),\n",
       " (0.0059155825615547775, 'menarche'),\n",
       " (0.005343845185886931, 'pregnowq'),\n",
       " (0.0060378317082540045, 'numpregs'),\n",
       " (0.00541542534750572, 'currpreg'),\n",
       " (0.005780984893938634, 'giveadpt'),\n",
       " (0.005254766252301923, 'otherkid'),\n",
       " (0.005289464417210787, 'everadpt'),\n",
       " (0.0058286851663725825, 'seekadpt'),\n",
       " (0.0065420652227655696, 'evwntano'),\n",
       " (0.007146484736500369, 'timesmar'),\n",
       " (0.006260110249016182, 'hsbverif'),\n",
       " (0.006510198768834297, 'cmmarrhx'),\n",
       " (0.007559824082689293, 'hxagemar'),\n",
       " (0.007432269596385654, 'cmhsbdobx'),\n",
       " (0.007835111746898327, 'lvtoghx'),\n",
       " (0.006732535398132455, 'hisphx'),\n",
       " (0.00854385589625295, 'racehx1'),\n",
       " (0.009526403068447875, 'chedmarn'),\n",
       " (0.006464090481781315, 'marbefhx'),\n",
       " (0.007928273601067626, 'kidshx'),\n",
       " (0.007183543845538876, 'cmmarrch'),\n",
       " (0.006761687432295327, 'cmdobch'),\n",
       " (0.006548743638517762, 'prevhusb'),\n",
       " (0.00629560886714331, 'cmstrthp'),\n",
       " (0.007320288484473747, 'evrcohab'),\n",
       " (0.0073365000741102415, 'liveoth'),\n",
       " (0.006131749211457871, 'prevcohb'),\n",
       " (0.005640038945984527, 'cmfstsex'),\n",
       " (0.0054298693534173825, 'agefstsx'),\n",
       " (0.0010172326396578057, 'grfstsx'),\n",
       " (0.005745270584701978, 'sameman'),\n",
       " (0.0054772600593091525, 'fpage'),\n",
       " (0.00538273371151976, 'knowfp'),\n",
       " (0.00604372645622453, 'cmlsexfp'),\n",
       " (0.005910693467716999, 'cmfplast'),\n",
       " (0.005423734887384235, 'lifeprt'),\n",
       " (0.0053417476676168585, 'mon12prt'),\n",
       " (0.0053493888650058, 'parts12'),\n",
       " (0.0065024665690608385, 'ptsb4mar'),\n",
       " (0.00627002683228417, 'p1yrage'),\n",
       " (0.004475735734043362, 'p1yhsage'),\n",
       " (0.0046862977809060125, 'p1yrf'),\n",
       " (0.007927219826495024, 'cmfsexx'),\n",
       " (0.0060854504154602695, 'pcurrntx'),\n",
       " (0.006103433602601682, 'cmlsexx'),\n",
       " (0.006129604796508259, 'cmlstsxx'),\n",
       " (0.0060299492496311835, 'cmlstsx12'),\n",
       " (0.005339302768089582, 'lifeprts'),\n",
       " (0.0053282763855251325, 'cmlastsx'),\n",
       " (0.005790778139281194, 'currprtt'),\n",
       " (0.006691333575973957, 'currprts'),\n",
       " (0.004259919311988103, 'cmpart1y1'),\n",
       " (0.0053727944846481135, 'evertubs'),\n",
       " (0.005394668684848503, 'everhyst'),\n",
       " (0.005181213721675237, 'everovrs'),\n",
       " (0.0055216206466339735, 'everothr'),\n",
       " (0.005497888372024695, 'anyfster'),\n",
       " (0.005806983909926733, 'fstrop12'),\n",
       " (0.0064869433773805385, 'anyopsmn'),\n",
       " (0.0064756285532653335, 'anymster'),\n",
       " (0.005457516875982837, 'rsurgstr'),\n",
       " (0.006286783510051408, 'psurgstr'),\n",
       " (0.0058616476673254425, 'onlytbvs'),\n",
       " (0.0038784396522584252, 'posiblpg'),\n",
       " (0.00801114720807472, 'canhaver'),\n",
       " (0.003893424250926647, 'pregnono'),\n",
       " (0.005331594693332997, 'rstrstat'),\n",
       " (0.006809171829395555, 'pstrstat'),\n",
       " (0.006443076281379301, 'pill'),\n",
       " (0.005456714711317923, 'condom'),\n",
       " (0.006878239843079226, 'vasectmy'),\n",
       " (0.005647132703301971, 'widrawal'),\n",
       " (0.006777709961075407, 'depoprov'),\n",
       " (0.0053607662679519, 'norplant'),\n",
       " (0.006558270799857824, 'rhythm'),\n",
       " (0.00678147290615938, 'tempsafe'),\n",
       " (0.005333255591501329, 'mornpill'),\n",
       " (0.005588775806414037, 'diafragm'),\n",
       " (0.008181466230171464, 'wocondom'),\n",
       " (0.005712441891462139, 'foamalon'),\n",
       " (0.00560589282559576, 'jelcrmal'),\n",
       " (0.006669505309995882, 'cervlcap'),\n",
       " (0.005328971051790976, 'supposit'),\n",
       " (0.0067739501854265916, 'todayspg'),\n",
       " (0.005348443535178826, 'iud'),\n",
       " (0.005669693175718971, 'lunelle'),\n",
       " (0.00557466481573432, 'patch'),\n",
       " (0.006317045357729922, 'othrmeth'),\n",
       " (0.005328912963907251, 'everused'),\n",
       " (0.0062621002452543095, 'methdiss'),\n",
       " (0.006783255187157056, 'methstop01'),\n",
       " (0.005827582700002165, 'firsmeth01'),\n",
       " (0.0059969573119960096, 'numfirsm'),\n",
       " (0.0057600954802820015, 'numfirsm1'),\n",
       " (0.006335882371607426, 'numfirsm2'),\n",
       " (0.006336231852240637, 'drugdev'),\n",
       " (0.004369823481887081, 'firstime2'),\n",
       " (0.005183357448185988, 'cmfstuse'),\n",
       " (0.006498991331905568, 'cmfirsm'),\n",
       " (0.00443751052396768, 'agefstus'),\n",
       " (0.005735952227613028, 'usefstsx'),\n",
       " (0.005546199546767494, 'intr_ec3'),\n",
       " (0.006421238927684314, 'monsx1177'),\n",
       " (0.005995975528061637, 'monsx1178'),\n",
       " (0.005871772632105476, 'monsx1179'),\n",
       " (0.005355244912861545, 'monsx1180'),\n",
       " (0.005475780215880799, 'monsx1181'),\n",
       " (0.005878264818757972, 'monsx1182'),\n",
       " (0.00593529016936678, 'monsx1183'),\n",
       " (0.00613672273674104, 'monsx1184'),\n",
       " (0.006114461327954346, 'monsx1185'),\n",
       " (0.005914492828921758, 'monsx1186'),\n",
       " (0.005715145721739812, 'monsx1187'),\n",
       " (0.0059426297773013115, 'monsx1188'),\n",
       " (0.006403878523878803, 'monsx1189'),\n",
       " (0.006652431486344201, 'monsx1190'),\n",
       " (0.005859464888209431, 'monsx1191'),\n",
       " (0.0061836704118873875, 'monsx1192'),\n",
       " (0.00597069765431868, 'monsx1193'),\n",
       " (0.006185930348182156, 'monsx1194'),\n",
       " (0.00626172261533986, 'monsx1195'),\n",
       " (0.005883642310484327, 'monsx1196'),\n",
       " (0.006312131013808564, 'monsx1197'),\n",
       " (0.006334490158298345, 'monsx1198'),\n",
       " (0.006238157095210695, 'monsx1199'),\n",
       " (0.005958303111450958, 'monsx1200'),\n",
       " (0.00597161182383088, 'monsx1201'),\n",
       " (0.006232965940293433, 'monsx1202'),\n",
       " (0.006156764688054928, 'monsx1203'),\n",
       " (0.00646363990894494, 'monsx1204'),\n",
       " (0.006792900648230238, 'monsx1205'),\n",
       " (0.006223101663507036, 'monsx1206'),\n",
       " (0.006017807331303082, 'monsx1207'),\n",
       " (0.006329241899985738, 'monsx1208'),\n",
       " (0.006356669505836909, 'monsx1209'),\n",
       " (0.006029258683564187, 'monsx1210'),\n",
       " (0.005520990260007741, 'monsx1211'),\n",
       " (0.005987728957053129, 'monsx1212'),\n",
       " (0.007198033668191162, 'monsx1213'),\n",
       " (0.006899020398532629, 'monsx1214'),\n",
       " (0.006151064433626119, 'monsx1215'),\n",
       " (0.00604119194194519, 'monsx1216'),\n",
       " (0.006215321754830194, 'monsx1217'),\n",
       " (0.005713521284034573, 'monsx1218'),\n",
       " (0.005933855306221036, 'monsx1219'),\n",
       " (0.006167667783488762, 'monsx1220'),\n",
       " (0.006029948736347213, 'monsx1221'),\n",
       " (0.005840062379099065, 'monsx1222'),\n",
       " (0.0056196119411144885, 'monsx1223'),\n",
       " (0.006563305715290291, 'monsx1224'),\n",
       " (0.006284349732577854, 'monsx1225'),\n",
       " (0.006323173014771033, 'monsx1226'),\n",
       " (0.005534365979908085, 'monsx1227'),\n",
       " (0.006374798787152525, 'monsx1228'),\n",
       " (0.007520765906872118, 'monsx1229'),\n",
       " (0.008083697967827042, 'monsx1230'),\n",
       " (0.007233374656298586, 'monsx1231'),\n",
       " (0.00798521708010047, 'monsx1232'),\n",
       " (0.0071910331970505, 'monsx1233'),\n",
       " (0.006261425077471072, 'cmstrtmc'),\n",
       " (0.005825958517250984, 'cmendmc'),\n",
       " (0.005603506388835333, 'methhist011'),\n",
       " (0.007284980353802317, 'cmdatbgn'),\n",
       " (0.005635409045157691, 'nummult'),\n",
       " (0.005551844008685025, 'methhist021'),\n",
       " (0.0054895117434016205, 'nummult2'),\n",
       " (0.0055628303964549985, 'methhist031'),\n",
       " (0.005546883063650143, 'nummult3'),\n",
       " (0.005487202405734637, 'methhist041'),\n",
       " (0.005502460937693798, 'nummult4'),\n",
       " (0.005536189169154659, 'methhist051'),\n",
       " (0.005452729882171048, 'nummult5'),\n",
       " (0.005489245446082647, 'methhist061'),\n",
       " (0.005475895500679395, 'nummult6'),\n",
       " (0.005473214690817962, 'methhist071'),\n",
       " (0.005428876448518527, 'nummult7'),\n",
       " (0.005594046854832779, 'methhist081'),\n",
       " (0.0054730049104988465, 'nummult8'),\n",
       " (0.0054826171583017835, 'methhist091'),\n",
       " (0.005427232664615755, 'nummult9'),\n",
       " (0.0055033931564414384, 'methhist101'),\n",
       " (0.0054371432339519465, 'nummult10'),\n",
       " (0.005516430998187438, 'methhist111'),\n",
       " (0.005502305304443733, 'nummult11'),\n",
       " (0.00547030209817545, 'methhist121'),\n",
       " (0.005504255019818993, 'nummult12'),\n",
       " (0.005607458874307025, 'methhist131'),\n",
       " (0.005549721074183056, 'nummult13'),\n",
       " (0.005546717068292906, 'methhist141'),\n",
       " (0.005542683859749542, 'nummult14'),\n",
       " (0.0055396922955603944, 'methhist151'),\n",
       " (0.005532468054716078, 'nummult15'),\n",
       " (0.005536492647945979, 'methhist161'),\n",
       " (0.005536401342006392, 'nummult16'),\n",
       " (0.00551933216368472, 'methhist171'),\n",
       " (0.005493486008020909, 'nummult17'),\n",
       " (0.005507179974851395, 'methhist181'),\n",
       " (0.0054913983634296, 'nummult18'),\n",
       " (0.005471902813542151, 'methhist191'),\n",
       " (0.005487640499653779, 'nummult19'),\n",
       " (0.005504743168494475, 'methhist201'),\n",
       " (0.005466739231584028, 'nummult20'),\n",
       " (0.005510186988941679, 'methhist211'),\n",
       " (0.005491203193220384, 'nummult21'),\n",
       " (0.005506337448606069, 'methhist221'),\n",
       " (0.005511607291997178, 'nummult22'),\n",
       " (0.005529545049183016, 'methhist231'),\n",
       " (0.005530806017465473, 'nummult23'),\n",
       " (0.00555002676240679, 'methhist241'),\n",
       " (0.00553994828988269, 'nummult24'),\n",
       " (0.0055211355102116055, 'methhist251'),\n",
       " (0.005568285509334525, 'nummult25'),\n",
       " (0.005540129688541895, 'methhist261'),\n",
       " (0.005673797628286015, 'nummult26'),\n",
       " (0.0055319741942271294, 'methhist271'),\n",
       " (0.005784089177182872, 'nummult27'),\n",
       " (0.0055784115374736265, 'methhist281'),\n",
       " (0.005600401746815531, 'nummult28'),\n",
       " (0.005578714034812471, 'methhist291'),\n",
       " (0.005615514861761484, 'nummult29'),\n",
       " (0.0056429313351297195, 'methhist301'),\n",
       " (0.005731739860239671, 'nummult30'),\n",
       " (0.005616953589053786, 'methhist311'),\n",
       " (0.005669936949214138, 'nummult31'),\n",
       " (0.005643555222207719, 'methhist321'),\n",
       " (0.005749895915191372, 'nummult32'),\n",
       " (0.005675590741276326, 'methhist331'),\n",
       " (0.005780466079303159, 'nummult33'),\n",
       " (0.005727245232216016, 'methhist341'),\n",
       " (0.005872564976318828, 'nummult34'),\n",
       " (0.005746152259455295, 'methhist351'),\n",
       " (0.005842619866505361, 'nummult35'),\n",
       " (0.005750154151443754, 'methhist361'),\n",
       " (0.005681701891443458, 'nummult36'),\n",
       " (0.006075297759302933, 'methhist371'),\n",
       " (0.005704951869176633, 'nummult37'),\n",
       " (0.006209219638330099, 'methhist381'),\n",
       " (0.005708874481709314, 'nummult38'),\n",
       " (0.006150018912528976, 'methhist391'),\n",
       " (0.00574794039603721, 'nummult39'),\n",
       " (0.006692950545528764, 'methhist401'),\n",
       " (0.00625885766932921, 'nummult40'),\n",
       " (0.007456274427272702, 'methhist411'),\n",
       " (0.006932216156475324, 'nummult41'),\n",
       " (0.008359250704236598, 'methhist421'),\n",
       " (0.007521964733084974, 'nummult42'),\n",
       " (0.009953102543863057, 'methhist431'),\n",
       " (0.007971602243966425, 'nummult43'),\n",
       " (0.009584160754144477, 'methhist441'),\n",
       " (0.007606603124693301, 'nummult44'),\n",
       " (0.009508144086923576, 'methhist451'),\n",
       " (0.006828747690285852, 'nummult45'),\n",
       " (0.007584417482075834, 'currmeth1'),\n",
       " (0.006270373440042887, 'lastmonmeth1'),\n",
       " (0.0067277169867885345, 'uselstp'),\n",
       " (0.0070190854716509765, 'lstmthp11'),\n",
       " (0.00558079811714618, 'usefstp'),\n",
       " (0.006042935277704609, 'pst4wksx'),\n",
       " (0.006741983069778024, 'pswkcond2'),\n",
       " (0.006418878609596557, 'p12mocon'),\n",
       " (0.005346429169521993, 'bthcon12'),\n",
       " (0.005332954623398556, 'medtst12'),\n",
       " (0.005341624685738622, 'bccns12'),\n",
       " (0.005429737619423114, 'stcns12'),\n",
       " (0.005470924106891539, 'eccns12'),\n",
       " (0.005348972077158898, 'prgtst12'),\n",
       " (0.005394374943375468, 'abort12'),\n",
       " (0.005367446414242583, 'pap12'),\n",
       " (0.005672332993427065, 'pelvic12'),\n",
       " (0.0062589483576194205, 'stdtst12'),\n",
       " (0.004842342942612321, 'numbcvis'),\n",
       " (0.004399661007812639, 'papplbc2'),\n",
       " (0.004437846218582786, 'pappelec'),\n",
       " (0.00572598059154017, 'rwant'),\n",
       " (0.0059484588815129635, 'pwant'),\n",
       " (0.005332008335859562, 'hlpprg'),\n",
       " (0.005561944793632145, 'prgvisit'),\n",
       " (0.0057438068195755365, 'hlpmc'),\n",
       " (0.006676017274233281, 'duchfreq'),\n",
       " (0.00581310037029259, 'pid'),\n",
       " (0.005690158662538747, 'diabetes'),\n",
       " (0.005531743131488853, 'ovacyst'),\n",
       " (0.006038196805351781, 'uf'),\n",
       " (0.005934224089218509, 'endo'),\n",
       " (0.005440537772177456, 'ovuprob'),\n",
       " (0.006125132020863511, 'limited'),\n",
       " (0.005541214057692145, 'equipmnt'),\n",
       " (0.005981350416892295, 'donbld85'),\n",
       " (0.005436612794017304, 'hivtest'),\n",
       " (0.004477971595801877, 'cmhivtst'),\n",
       " (0.00435508952852004, 'plchiv'),\n",
       " (0.004314612061914858, 'hivtst'),\n",
       " (0.00561821377110816, 'talkdoct'),\n",
       " (0.005329810046365124, 'retrovir'),\n",
       " (0.006663672692549305, 'cover12'),\n",
       " (0.006693078733038815, 'coverhow01'),\n",
       " (0.0060500431013751355, 'sameadd'),\n",
       " (0.005329635323782278, 'brnout_r'),\n",
       " (0.014003795578114375, 'paydu'),\n",
       " (0.005407180634570907, 'relraisd'),\n",
       " (0.005370356923926178, 'relcurr'),\n",
       " (0.005655636115156404, 'fundam'),\n",
       " (0.005504988604337124, 'reldlife'),\n",
       " (0.005867952875404203, 'attndnow'),\n",
       " (0.005933481080438563, 'evwrk6mo'),\n",
       " (0.006304973857167329, 'cmbfstwk'),\n",
       " (0.005644145001417522, 'evrntwrk'),\n",
       " (0.005328150312206348, 'wrk12mos'),\n",
       " (0.007178560512177912, 'fpt12mos'),\n",
       " (0.006445359844623688, 'dolastwk1'),\n",
       " (0.0040186984568401085, 'dolastwk2'),\n",
       " (0.005216743193329432, 'dolastwk3'),\n",
       " (0.0062574600046569895, 'rwrkst'),\n",
       " (0.005644484119355919, 'everwork'),\n",
       " (0.0051777792938758616, 'rnumjob'),\n",
       " (0.005293304160077894, 'rftptx'),\n",
       " (0.0059898508613943635, 'rearnty'),\n",
       " (0.0072125285913261505, 'splstwk1'),\n",
       " (0.008528896910858341, 'spwrkst'),\n",
       " (0.005713999272681791, 'spnumjob'),\n",
       " (0.006751568523647111, 'spftptx'),\n",
       " (0.005877030054991406, 'spearnty'),\n",
       " (0.004886896120925299, 'chcarany'),\n",
       " (0.005366116602676496, 'better'),\n",
       " (0.005356197123853934, 'staytog'),\n",
       " (0.005328846022478628, 'samesex'),\n",
       " (0.0053541143477804365, 'anyact'),\n",
       " (0.005405004141726288, 'sxok18'),\n",
       " (0.005997965901474833, 'sxok16'),\n",
       " (0.005984938037659648, 'chreward'),\n",
       " (0.005973387215935877, 'chsuppor'),\n",
       " (0.005352012775372339, 'gayadopt'),\n",
       " (0.005785901183284814, 'okcohab'),\n",
       " (0.005330226512754943, 'warm'),\n",
       " (0.00533482617062464, 'achieve'),\n",
       " (0.006122955918854478, 'family'),\n",
       " (0.005413165880377879, 'acasilang'),\n",
       " (0.00783420502222576, 'wage'),\n",
       " (0.006321423555550654, 'selfinc'),\n",
       " (0.006237964556073727, 'socsec'),\n",
       " (0.005330070889623784, 'disabil'),\n",
       " (0.005337980306478252, 'retire'),\n",
       " (0.008398675180815052, 'ssi'),\n",
       " (0.006015715048611536, 'unemp'),\n",
       " (0.005327537441129571, 'chldsupp'),\n",
       " (0.009477120535617223, 'interest'),\n",
       " (0.007333419685710885, 'dividend'),\n",
       " (0.005327382416789761, 'othinc'),\n",
       " (0.006775124578426772, 'toincwmy'),\n",
       " (0.005352217186313735, 'totinc'),\n",
       " (0.0064238214634632085, 'pubasst'),\n",
       " (0.008558622074178346, 'foodstmp'),\n",
       " (0.006637757779645814, 'wic'),\n",
       " (0.005378525056024985, 'hlptrans'),\n",
       " (0.005920897262712388, 'hlpchldc'),\n",
       " (0.005478955696682664, 'hlpjob'),\n",
       " (0.0055903980552192145, 'ager_r'),\n",
       " (0.009944942659111056, 'fmarital_r'),\n",
       " (0.006450913803300651, 'educat_r'),\n",
       " (0.006691986822550011, 'hieduc_r'),\n",
       " (0.005351273101023457, 'hispanic_r'),\n",
       " (0.016199503586253217, 'race_r'),\n",
       " (0.011238349302031159, 'hisprace_r'),\n",
       " (0.005329986431590106, 'numkdhh'),\n",
       " (0.0053945284334839805, 'numfmhh'),\n",
       " (0.006182128607900905, 'intctfam'),\n",
       " (0.00552572107604743, 'parage14'),\n",
       " (0.005473746177716343, 'educmom'),\n",
       " (0.0058533592637338705, 'agemomb1'),\n",
       " (0.005415854205569004, 'hieduc_i_r'),\n",
       " (0.005327282505070752, 'hispanic_i_r'),\n",
       " (0.005329835819693818, 'parage14_i'),\n",
       " (0.006383228212261449, 'educmom_i'),\n",
       " (0.006160171070091369, 'agemomb1_i'),\n",
       " (0.005415425347505609, 'rcurpreg_r'),\n",
       " (0.0060378317082540045, 'pregnum_r'),\n",
       " (0.0060943638898968144, 'compreg'),\n",
       " (0.005630995365190072, 'lossnum'),\n",
       " (0.005522608888729352, 'abortion'),\n",
       " (0.0056503224424951926, 'lbpregs'),\n",
       " (0.006503720321448969, 'parity_r'),\n",
       " (0.005417941356685829, 'births5'),\n",
       " (0.00576436244478995, 'outcom01'),\n",
       " (0.005931010998079689, 'outcom02'),\n",
       " (0.00612285375504007, 'outcom03'),\n",
       " (0.005419025041086045, 'datend01'),\n",
       " (0.006029071803283159, 'datend02'),\n",
       " (0.006108693948040589, 'datend03'),\n",
       " (0.007278279163181911, 'ageprg01'),\n",
       " (0.00853528936555148, 'ageprg02'),\n",
       " (0.009220965964321759, 'ageprg03'),\n",
       " (0.005389678393071473, 'datcon01'),\n",
       " (0.00614551820755771, 'datcon02'),\n",
       " (0.0062167895640963255, 'datcon03'),\n",
       " (0.0070671875422203545, 'agecon01'),\n",
       " (0.008474519661758051, 'agecon02'),\n",
       " (0.008893897369700698, 'agecon03'),\n",
       " (0.011269357246806555, 'marout01'),\n",
       " (0.010141720907287266, 'marout02'),\n",
       " (0.011807801994375255, 'marout03'),\n",
       " (0.011407737138640295, 'rmarout01'),\n",
       " (0.0105469132065652, 'rmarout02'),\n",
       " (0.013430066465713542, 'rmarout03'),\n",
       " (0.009234871431322844, 'marcon01'),\n",
       " (0.010481401795534362, 'marcon02'),\n",
       " (0.011752599354396098, 'marcon03'),\n",
       " (0.011437770919637047, 'cebow'),\n",
       " (0.007442478133715902, 'cebowc'),\n",
       " (0.005331372450776417, 'datbaby1'),\n",
       " (0.006431931319703876, 'agebaby1'),\n",
       " (0.0060439287839128, 'liv1chld'),\n",
       " (0.00566216198540892, 'lossnum_i'),\n",
       " (0.00566216198540892, 'abortion_i'),\n",
       " (0.00566216198540892, 'lbpregs_i'),\n",
       " (0.00566216198540892, 'parity_i_r'),\n",
       " (0.00566216198540892, 'births5_i'),\n",
       " (0.005917896845371473, 'outcom02_i'),\n",
       " (0.005328062662569466, 'outcom03_i'),\n",
       " (0.005673431831919484, 'outcom04_i'),\n",
       " (0.005512637793773534, 'outcom05_i'),\n",
       " (0.005331053251030338, 'outcom06_i'),\n",
       " (0.005336032874003305, 'outcom07_i'),\n",
       " (0.005431343175452907, 'outcom08_i'),\n",
       " (0.005365193139261981, 'outcom09_i'),\n",
       " (0.005548660472480149, 'outcom10_i'),\n",
       " (0.00551793175487425, 'datend01_i'),\n",
       " (0.005690934538440162, 'datend02_i'),\n",
       " (0.005332715022836387, 'datend03_i'),\n",
       " (0.005328883282734509, 'datend04_i'),\n",
       " (0.00552105314091389, 'datend05_i'),\n",
       " (0.005614288280905488, 'datend06_i'),\n",
       " (0.005663078981644198, 'datend07_i'),\n",
       " (0.005858198017676397, 'datend08_i'),\n",
       " (0.005795817124290559, 'datend09_i'),\n",
       " (0.005548660472480149, 'datend10_i'),\n",
       " (0.005537193660306028, 'datend12_i'),\n",
       " (0.005537193660306028, 'datend13_i'),\n",
       " (0.005572507513472824, 'ageprg01_i'),\n",
       " (0.006081858146695152, 'ageprg02_i'),\n",
       " (0.005418070111409046, 'ageprg03_i'),\n",
       " (0.0053816621737194925, 'ageprg04_i'),\n",
       " (0.005613913002136428, 'ageprg05_i'),\n",
       " (0.005489445784257585, 'ageprg06_i'),\n",
       " (0.005564320884191676, 'ageprg07_i'),\n",
       " (0.005806143379295192, 'ageprg08_i'),\n",
       " (0.005795817124290559, 'ageprg09_i'),\n",
       " (0.005548660472480149, 'ageprg10_i'),\n",
       " (0.005537193660306028, 'ageprg12_i'),\n",
       " (0.005537193660306028, 'ageprg13_i'),\n",
       " (0.005405602200152071, 'datcon01_i'),\n",
       " (0.005690934538440162, 'datcon02_i'),\n",
       " (0.005332715022836387, 'datcon03_i'),\n",
       " (0.005328593623978861, 'datcon04_i'),\n",
       " (0.005498332824140806, 'datcon05_i'),\n",
       " (0.005614288280905488, 'datcon06_i'),\n",
       " (0.005591773203161732, 'datcon07_i'),\n",
       " (0.005858198017676397, 'datcon08_i'),\n",
       " (0.005795817124290559, 'datcon09_i'),\n",
       " (0.005548660472480149, 'datcon10_i'),\n",
       " (0.005537193660306028, 'datcon12_i'),\n",
       " (0.005537193660306028, 'datcon13_i'),\n",
       " (0.005464459762510754, 'agecon01_i'),\n",
       " (0.0059538673862225, 'agecon02_i'),\n",
       " (0.005440344671912789, 'agecon03_i'),\n",
       " (0.005462357369145909, 'agecon04_i'),\n",
       " (0.005585209645217137, 'agecon05_i'),\n",
       " (0.005565046255331163, 'agecon06_i'),\n",
       " (0.005690797025869387, 'agecon07_i'),\n",
       " (0.005858198017676397, 'agecon08_i'),\n",
       " (0.005795817124290559, 'agecon09_i'),\n",
       " (0.005548660472480149, 'agecon10_i'),\n",
       " (0.005537193660306028, 'agecon12_i'),\n",
       " (0.005537193660306028, 'agecon13_i'),\n",
       " (0.0054958469865517, 'marout01_i'),\n",
       " (0.005617451126696094, 'marout02_i'),\n",
       " (0.0057675316941988575, 'marout03_i'),\n",
       " (0.006058555904314367, 'marout04_i'),\n",
       " (0.007831854171707953, 'marout05_i'),\n",
       " (0.006525666016629739, 'marout06_i'),\n",
       " (0.00724208646889779, 'marout07_i'),\n",
       " (0.006008832051372925, 'marout08_i'),\n",
       " (0.005363835534778927, 'marout09_i'),\n",
       " (0.00543482890175806, 'marout10_i'),\n",
       " (0.005588512919647237, 'marout11_i'),\n",
       " (0.005427474035637814, 'rmarout01_i'),\n",
       " (0.005678427980717937, 'rmarout02_i'),\n",
       " (0.005498637325022204, 'rmarout03_i'),\n",
       " (0.005526063051171315, 'rmarout04_i'),\n",
       " (0.006880617443338566, 'rmarout05_i'),\n",
       " (0.006242519070739028, 'rmarout06_i'),\n",
       " (0.0065392458192822245, 'rmarout07_i'),\n",
       " (0.006008832051372925, 'rmarout08_i'),\n",
       " (0.005363835534778927, 'rmarout09_i'),\n",
       " (0.00543482890175806, 'rmarout10_i'),\n",
       " (0.005588512919647237, 'rmarout11_i'),\n",
       " (0.005615034951999998, 'marcon01_i'),\n",
       " (0.005611341957289517, 'marcon02_i'),\n",
       " (0.006181472870090521, 'marcon03_i'),\n",
       " (0.005767269267942243, 'marcon04_i'),\n",
       " (0.007880198703264396, 'marcon05_i'),\n",
       " (0.00680621180187746, 'marcon06_i'),\n",
       " (0.006785317780935385, 'marcon07_i'),\n",
       " (0.005977443508034752, 'marcon08_i'),\n",
       " (0.005345000467353644, 'marcon09_i'),\n",
       " (0.00543482890175806, 'marcon10_i'),\n",
       " (0.005588512919647237, 'marcon11_i'),\n",
       " (0.00566216198540892, 'cebow_i'),\n",
       " (0.00566216198540892, 'cebowc_i'),\n",
       " (0.00579428102514401, 'datbaby1_i'),\n",
       " (0.005943478567578486, 'agebaby1_i'),\n",
       " (0.00566216198540892, 'liv1chld_i'),\n",
       " (0.008267774071422318, 'rmarital_r'),\n",
       " (0.0062973555918355295, 'fmarno'),\n",
       " (0.006812670300484713, 'mardat01'),\n",
       " (0.0065210569478663105, 'fmar1age'),\n",
       " (0.010961563590752288, 'mar1diss'),\n",
       " (0.01011203001685379, 'mar1bir1'),\n",
       " (0.00906036084698758, 'mar1con1'),\n",
       " (0.008161692294398226, 'con1mar1'),\n",
       " (0.010059124870519964, 'b1premar'),\n",
       " (0.007255508514300568, 'cohever'),\n",
       " (0.006194957970746651, 'evmarcoh'),\n",
       " (0.002719393678812798, 'cohab1'),\n",
       " (0.006628001579039089, 'cohstat'),\n",
       " (0.0031380350118120903, 'cohout'),\n",
       " (0.00542047971067261, 'coh1dur'),\n",
       " (0.005336364971175067, 'sexever'),\n",
       " (0.005944534641656785, 'vry1stag'),\n",
       " (0.006142613338264491, 'sex1age'),\n",
       " (0.005331809873838411, 'vry1stsx'),\n",
       " (0.00530886011187548, 'datesex1'),\n",
       " (0.0053539808912769216, 'sexonce'),\n",
       " (0.0053555252868137115, 'fsexpage'),\n",
       " (0.006731297126731928, 'sexmar'),\n",
       " (0.0065143616191198905, 'sex1for'),\n",
       " (0.005443436227038134, 'parts1yr'),\n",
       " (0.00585593844385579, 'lsexdate'),\n",
       " (0.005966988984322019, 'lsexrage'),\n",
       " (0.006336599492574813, 'lifprtnr'),\n",
       " (0.005707996133960114, 'fmarno_i'),\n",
       " (0.00541335462645387, 'mardat01_i'),\n",
       " (0.005347124675960213, 'mardat02_i'),\n",
       " (0.005977057012740761, 'mardis01_i'),\n",
       " (0.0054115975647810455, 'mardis02_i'),\n",
       " (0.005421911068140273, 'mardis03_i'),\n",
       " (0.005404865865728525, 'mardis04_i'),\n",
       " (0.005455649152206754, 'mardis05_i'),\n",
       " (0.005560566292258984, 'marend01_i'),\n",
       " (0.005343277856898365, 'marend02_i'),\n",
       " (0.005329489935103404, 'marend03_i'),\n",
       " (0.005344829446110477, 'marend04_i'),\n",
       " (0.005466515793662974, 'fmar1age_i'),\n",
       " (0.006229712679169608, 'agediss1_i'),\n",
       " (0.005818093852332562, 'agedd1_i'),\n",
       " (0.005952534717923896, 'mar1diss_i'),\n",
       " (0.005562511474124454, 'dd1remar_i'),\n",
       " (0.0056514514657068915, 'mar1bir1_i'),\n",
       " (0.005519846049073851, 'mar1con1_i'),\n",
       " (0.005451844769302827, 'con1mar1_i'),\n",
       " (0.005682316811192467, 'b1premar_i'),\n",
       " (0.006692214376486483, 'cohab1_i'),\n",
       " (0.005675247994851196, 'cohstat_i'),\n",
       " (0.005512329697066942, 'cohout_i'),\n",
       " (0.006334563438735952, 'coh1dur_i'),\n",
       " (0.00604399181978954, 'sexever_i'),\n",
       " (0.0053941533797432495, 'vry1stag_i'),\n",
       " (0.005426725797249454, 'sex1age_i'),\n",
       " (0.005541139244667148, 'vry1stsx_i'),\n",
       " (0.0056974344065521265, 'datesex1_i'),\n",
       " (0.005352361370884018, 'fsexpage_i'),\n",
       " (0.0054768804615888955, 'sexmar_i'),\n",
       " (0.005556170017821382, 'sex1for_i'),\n",
       " (0.0053912178048816095, 'parts1yr_i'),\n",
       " (0.005329254109874837, 'lsexdate_i'),\n",
       " (0.005436061430343364, 'lsexrage_i'),\n",
       " (0.005582651346654144, 'lifprtnr_i'),\n",
       " (0.0056005006117660905, 'strloper'),\n",
       " (0.005363580062538786, 'tubs'),\n",
       " (0.006426387530718558, 'vasect'),\n",
       " (0.0055320684576875, 'hyst'),\n",
       " (0.005330716063850716, 'ovarect'),\n",
       " (0.005518449429605887, 'othr'),\n",
       " (0.005817702615502851, 'othrm'),\n",
       " (0.005480431084785686, 'fecund'),\n",
       " (0.006048959480912219, 'anybc36'),\n",
       " (0.00601141488114143, 'nosex36'),\n",
       " (0.006212312054060809, 'infert'),\n",
       " (0.005921888449095136, 'anybc12'),\n",
       " (0.005328912963907251, 'anymthd'),\n",
       " (0.005580860850872282, 'nosex12'),\n",
       " (0.005549719784021079, 'sexp3mo'),\n",
       " (0.005984026261862785, 'sex3mo'),\n",
       " (0.006202060748729421, 'constat1'),\n",
       " (0.005357513743306841, 'constat2'),\n",
       " (0.005370972720360245, 'constat3'),\n",
       " (0.005465488617125591, 'constat4'),\n",
       " (0.006346969014618287, 'pillr'),\n",
       " (0.005464121795871191, 'condomr'),\n",
       " (0.005455089604600505, 'sex1mthd1'),\n",
       " (0.004003403776326464, 'sex1mthd2'),\n",
       " (0.006175243601095781, 'mthuse12'),\n",
       " (0.0072929966330781415, 'meth12m1'),\n",
       " (0.006372415393107289, 'mthuse3'),\n",
       " (0.006873907333843077, 'meth3m1'),\n",
       " (0.005951079009971605, 'nump3mos'),\n",
       " (0.005765060026367896, 'fmethod1'),\n",
       " (0.006312363569584312, 'dateuse1'),\n",
       " (0.0054732402254833445, 'oldwp01'),\n",
       " (0.0061220725634859585, 'oldwp02'),\n",
       " (0.006566679752625704, 'oldwp03'),\n",
       " (0.006299631522963756, 'oldwr01'),\n",
       " (0.007236400760750605, 'oldwr02'),\n",
       " (0.00930683125188092, 'oldwr03'),\n",
       " (0.006285282977210982, 'wantrp01'),\n",
       " (0.007236400760750605, 'wantrp02'),\n",
       " (0.00930683125188092, 'wantrp03'),\n",
       " (0.005486581240753408, 'wantp01'),\n",
       " (0.0060748063719647805, 'wantp02'),\n",
       " (0.006619960649522638, 'wantp03'),\n",
       " (0.005485284751240882, 'wantp5'),\n",
       " (0.005448957689460188, 'infert_i'),\n",
       " (0.006745013350792695, 'nosex12_i'),\n",
       " (0.005480667731327382, 'sexp3mo_i'),\n",
       " (0.005327293686325119, 'sex3mo_i'),\n",
       " (0.005829898683175738, 'constat1_i'),\n",
       " (0.005463833340320967, 'constat2_i'),\n",
       " (0.005562510845659396, 'constat3_i'),\n",
       " (0.005562510845659396, 'constat4_i'),\n",
       " (0.005327903108848231, 'pillr_i'),\n",
       " (0.005327903108848231, 'condomr_i'),\n",
       " (0.005480538682948399, 'sex1mthd1_i'),\n",
       " (0.0056180827577219095, 'sex1mthd2_i'),\n",
       " (0.0056180827577219095, 'sex1mthd3_i'),\n",
       " (0.0056180827577219095, 'sex1mthd4_i'),\n",
       " (0.0053273478704315425, 'mthuse12_i'),\n",
       " (0.0053352895922491594, 'meth12m1_i'),\n",
       " (0.005328505216348534, 'meth12m2_i'),\n",
       " (0.005328506712818926, 'meth12m3_i'),\n",
       " (0.005328506712818926, 'meth12m4_i'),\n",
       " (0.00535282201007925, 'mthuse3_i'),\n",
       " (0.005374562641145664, 'meth3m1_i'),\n",
       " (0.005346414776090214, 'meth3m2_i'),\n",
       " (0.0053380223568885166, 'meth3m3_i'),\n",
       " (0.0053380223568885166, 'meth3m4_i'),\n",
       " (0.0062734191728229804, 'nump3mos_i'),\n",
       " (0.005378877823191686, 'fmethod1_i'),\n",
       " (0.006076376776896875, 'dateuse1_i'),\n",
       " (0.005368456842452463, 'sourcem1_i'),\n",
       " (0.005343272732913462, 'sourcem2_i'),\n",
       " (0.005333841105334414, 'sourcem3_i'),\n",
       " (0.005333841105334414, 'sourcem4_i'),\n",
       " (0.005665470931053074, 'oldwp01_i'),\n",
       " (0.005532484672147064, 'oldwp02_i'),\n",
       " (0.006038794473754883, 'oldwp03_i'),\n",
       " (0.005995955760872862, 'oldwp04_i'),\n",
       " (0.005457954823496536, 'oldwp05_i'),\n",
       " (0.005401403098434399, 'oldwp06_i'),\n",
       " (0.005458929966589365, 'oldwp07_i'),\n",
       " (0.0057501139160012205, 'oldwp08_i'),\n",
       " (0.005364106218509135, 'oldwr01_i'),\n",
       " (0.005490172335676058, 'oldwr02_i'),\n",
       " (0.005363893387949292, 'oldwr03_i'),\n",
       " (0.005640306695205988, 'oldwr04_i'),\n",
       " (0.005381342606159634, 'oldwr05_i'),\n",
       " (0.005396951687654972, 'oldwr06_i'),\n",
       " (0.0055298718389822366, 'oldwr07_i'),\n",
       " (0.005587196021344054, 'oldwr08_i'),\n",
       " (0.005365193139261981, 'oldwr09_i'),\n",
       " (0.005364106218509135, 'wantrp01_i'),\n",
       " (0.005490172335676058, 'wantrp02_i'),\n",
       " (0.005363893387949292, 'wantrp03_i'),\n",
       " (0.005640306695205988, 'wantrp04_i'),\n",
       " (0.005381342606159634, 'wantrp05_i'),\n",
       " (0.005396951687654972, 'wantrp06_i'),\n",
       " (0.0055298718389822366, 'wantrp07_i'),\n",
       " (0.005587196021344054, 'wantrp08_i'),\n",
       " (0.005365193139261981, 'wantrp09_i'),\n",
       " (0.0054993860861722865, 'wantp01_i'),\n",
       " (0.005741447585054793, 'wantp02_i'),\n",
       " (0.005728830977664079, 'wantp03_i'),\n",
       " (0.006172654291036528, 'wantp04_i'),\n",
       " (0.005648956835502039, 'wantp05_i'),\n",
       " (0.00538592984977615, 'wantp06_i'),\n",
       " (0.005629613043803272, 'wantp07_i'),\n",
       " (0.005779919154650037, 'wantp08_i'),\n",
       " (0.006596791609596919, 'wantp5_i'),\n",
       " (0.005350239061346351, 'fptit12_i'),\n",
       " (0.0054279461800811335, 'fptitmed_i'),\n",
       " (0.005346447844715496, 'fpregmed_i'),\n",
       " (0.005547344425555711, 'r_stclin'),\n",
       " (0.005492834434037808, 'intent'),\n",
       " (0.005329132833836181, 'addexp'),\n",
       " (0.005959748183472446, 'intent_i'),\n",
       " (0.005862368582375432, 'addexp_i'),\n",
       " (0.005328595910998657, 'anyprghp'),\n",
       " (0.005834911540965937, 'anymschp'),\n",
       " (0.005608926827061045, 'infever'),\n",
       " (0.0058056953191234495, 'pidtreat'),\n",
       " (0.005327285446750096, 'evhivtst'),\n",
       " (0.005490881370955547, 'anyprghp_i'),\n",
       " (0.005696589912781214, 'anymschp_i'),\n",
       " (0.0055920576323433835, 'infever_i'),\n",
       " (0.005490881370955547, 'ovulate_i'),\n",
       " (0.005490881370955547, 'tubes_i'),\n",
       " (0.005490881370955547, 'infertr_i'),\n",
       " (0.005490881370955547, 'inferth_i'),\n",
       " (0.005490881370955547, 'advice_i'),\n",
       " (0.005490881370955547, 'insem_i'),\n",
       " (0.005490881370955547, 'invitro_i'),\n",
       " (0.005490881370955547, 'endomet_i'),\n",
       " (0.005490881370955547, 'fibroids_i'),\n",
       " (0.0053273436347914815, 'pidtreat_i'),\n",
       " (0.005384796955322346, 'evhivtst_i'),\n",
       " (0.005444228863617839, 'insuranc_r'),\n",
       " (0.005908687699079707, 'metro_r'),\n",
       " (0.005476246226179038, 'religion_r'),\n",
       " (0.006124250620027971, 'laborfor_r'),\n",
       " (0.005490192077694522, 'insuranc_i_r'),\n",
       " (0.005329126750794333, 'religion_i_r'),\n",
       " (0.005635393818939516, 'laborfor_i_r'),\n",
       " (0.009743158975297206, 'poverty_r'),\n",
       " (0.011870069031173602, 'totincr'),\n",
       " (0.009885032920747938, 'pubassis_r'),\n",
       " (0.005674668721374232, 'poverty_i_r'),\n",
       " (0.005674668721374232, 'totincr_i'),\n",
       " (0.005588263662201665, 'pubassis_i_r'),\n",
       " (0.007266083159805481, 'basewgt_r'),\n",
       " (0.006863344757269463, 'adj_mod_basewgt_r'),\n",
       " (0.007414601906966967, 'finalwgt_r'),\n",
       " (0.006008491880137079, 'secu_r'),\n",
       " (0.005405291868267881, 'sest_r'),\n",
       " (0.005425914889651273, 'cmintvw_r'),\n",
       " (0.005425914889651051, 'cmlstyr'),\n",
       " (0.005848951937927005, 'intvlngth')]"
      ]
     },
     "execution_count": 39,
     "metadata": {},
     "output_type": "execute_result"
    }
   ],
   "source": [
    "variables = GoMining(join)\n",
    "variables"
   ]
  },
  {
   "cell_type": "markdown",
   "metadata": {},
   "source": [
    "The following functions report the variables with the highest values of $R^2$."
   ]
  },
  {
   "cell_type": "code",
   "execution_count": 40,
   "metadata": {},
   "outputs": [],
   "source": [
    "import re\n",
    "\n",
    "def ReadVariables():\n",
    "    \"\"\"Reads Stata dictionary files for NSFG data.\n",
    "\n",
    "    returns: DataFrame that maps variables names to descriptions\n",
    "    \"\"\"\n",
    "    vars1 = thinkstats2.ReadStataDct('2002FemPreg.dct').variables\n",
    "    vars2 = thinkstats2.ReadStataDct('2002FemResp.dct').variables\n",
    "\n",
    "    all_vars = vars1.append(vars2)\n",
    "    all_vars.index = all_vars.name\n",
    "    return all_vars\n",
    "\n",
    "def MiningReport(variables, n=30):\n",
    "    \"\"\"Prints variables with the highest R^2.\n",
    "\n",
    "    t: list of (R^2, variable name) pairs\n",
    "    n: number of pairs to print\n",
    "    \"\"\"\n",
    "    all_vars = ReadVariables()\n",
    "\n",
    "    variables.sort(reverse=True)\n",
    "    for r2, name in variables[:n]:\n",
    "        key = re.sub('_r$', '', name)\n",
    "        try:\n",
    "            desc = all_vars.loc[key].desc\n",
    "            if isinstance(desc, pd.Series):\n",
    "                desc = desc[0]\n",
    "            print(name, r2, desc)\n",
    "        except (KeyError, IndexError):\n",
    "            print(name, r2)"
   ]
  },
  {
   "cell_type": "markdown",
   "metadata": {},
   "source": [
    "Some of the variables that do well are not useful for prediction because they are not known ahead of time."
   ]
  },
  {
   "cell_type": "code",
   "execution_count": 17,
   "metadata": {},
   "outputs": [
    {
     "name": "stdout",
     "output_type": "stream",
     "text": [
      "totalwgt_lb 1.0\n",
      "birthwgt_lb 0.9498127305978009 BD-3 BIRTHWEIGHT IN POUNDS - 1ST BABY FROM THIS PREGNANCY\n",
      "lbw1 0.30082407844707704 LOW BIRTHWEIGHT - BABY 1\n",
      "prglngth 0.13012519488625052 DURATION OF COMPLETED PREGNANCY IN WEEKS\n",
      "wksgest 0.12340041363361054 GESTATIONAL LENGTH OF COMPLETED PREGNANCY (IN WEEKS)\n",
      "agecon 0.10203149928155986 AGE AT TIME OF CONCEPTION\n",
      "mosgest 0.027144274639579802 GESTATIONAL LENGTH OF COMPLETED PREGNANCY (IN MONTHS)\n",
      "babysex 0.01855092529394209 BD-2 SEX OF 1ST LIVEBORN BABY FROM THIS PREGNANCY\n",
      "race_r 0.016199503586253217\n",
      "race 0.016199503586253217\n",
      "nbrnaliv 0.016017752709788113 BC-2 NUMBER OF BABIES BORN ALIVE FROM THIS PREGNANCY\n",
      "paydu 0.014003795578114597 IB-10 CURRENT LIVING QUARTERS OWNED/RENTED, ETC\n",
      "rmarout03 0.013430066465713209 INFORMAL MARITAL STATUS WHEN PREGNANCY ENDED - 3RD\n",
      "birthwgt_oz 0.013102457615706053 BD-3 BIRTHWEIGHT IN OUNCES - 1ST BABY FROM THIS PREGNANCY\n",
      "anynurse 0.012529022541810764 BH-1 WHETHER R BREASTFED THIS CHILD AT ALL - 1ST FROM THIS PREG\n",
      "bfeedwks 0.012193688404495862 DURATION OF BREASTFEEDING IN WEEKS\n",
      "totincr 0.011870069031173491 TOTAL INCOME OF R'S FAMILY\n",
      "marout03 0.011807801994374811 FORMAL MARITAL STATUS WHEN PREGNANCY ENDED - 3RD\n",
      "marcon03 0.011752599354395654 FORMAL MARITAL STATUS WHEN PREGNANCY BEGAN - 3RD\n",
      "cebow 0.011437770919637047 NUMBER OF CHILDREN BORN OUT OF WEDLOCK\n",
      "rmarout01 0.011407737138640073 INFORMAL MARITAL STATUS WHEN PREGNANCY ENDED - 1ST\n",
      "rmarout6 0.011354138472805642 INFORMAL MARITAL STATUS AT PREGNANCY OUTCOME - 6 CATEGORIES\n",
      "marout01 0.011269357246806555 FORMAL MARITAL STATUS WHEN PREGNANCY ENDED - 1ST\n",
      "hisprace_r 0.011238349302030715\n",
      "hisprace 0.011238349302030715\n",
      "mar1diss 0.010961563590751733 MONTHS BTW/1ST MARRIAGE & DISSOLUTION (OR INTERVIEW)\n",
      "fmarcon5 0.0106049646842995 FORMAL MARITAL STATUS AT CONCEPTION - 5 CATEGORIES\n",
      "rmarout02 0.0105469132065652 INFORMAL MARITAL STATUS WHEN PREGNANCY ENDED - 2ND\n",
      "marcon02 0.010481401795534362 FORMAL MARITAL STATUS WHEN PREGNANCY BEGAN - 2ND\n",
      "fmarout5 0.010461691367377068 FORMAL MARITAL STATUS AT PREGNANCY OUTCOME\n"
     ]
    }
   ],
   "source": [
    "MiningReport(variables)"
   ]
  },
  {
   "cell_type": "markdown",
   "metadata": {},
   "source": [
    "Combining the variables that seem to have the most explanatory power."
   ]
  },
  {
   "cell_type": "code",
   "execution_count": 41,
   "metadata": {},
   "outputs": [
    {
     "data": {
      "text/html": [
       "<table class=\"simpletable\">\n",
       "<caption>OLS Regression Results</caption>\n",
       "<tr>\n",
       "  <th>Dep. Variable:</th>       <td>totalwgt_lb</td>   <th>  R-squared:         </th> <td>   0.060</td> \n",
       "</tr>\n",
       "<tr>\n",
       "  <th>Model:</th>                   <td>OLS</td>       <th>  Adj. R-squared:    </th> <td>   0.059</td> \n",
       "</tr>\n",
       "<tr>\n",
       "  <th>Method:</th>             <td>Least Squares</td>  <th>  F-statistic:       </th> <td>   79.98</td> \n",
       "</tr>\n",
       "<tr>\n",
       "  <th>Date:</th>             <td>Mon, 24 Feb 2020</td> <th>  Prob (F-statistic):</th> <td>4.86e-113</td>\n",
       "</tr>\n",
       "<tr>\n",
       "  <th>Time:</th>                 <td>21:24:40</td>     <th>  Log-Likelihood:    </th> <td> -14295.</td> \n",
       "</tr>\n",
       "<tr>\n",
       "  <th>No. Observations:</th>      <td>  8781</td>      <th>  AIC:               </th> <td>2.861e+04</td>\n",
       "</tr>\n",
       "<tr>\n",
       "  <th>Df Residuals:</th>          <td>  8773</td>      <th>  BIC:               </th> <td>2.866e+04</td>\n",
       "</tr>\n",
       "<tr>\n",
       "  <th>Df Model:</th>              <td>     7</td>      <th>                     </th>     <td> </td>    \n",
       "</tr>\n",
       "<tr>\n",
       "  <th>Covariance Type:</th>      <td>nonrobust</td>    <th>                     </th>     <td> </td>    \n",
       "</tr>\n",
       "</table>\n",
       "<table class=\"simpletable\">\n",
       "<tr>\n",
       "            <td></td>              <th>coef</th>     <th>std err</th>      <th>t</th>      <th>P>|t|</th>  <th>[0.025</th>    <th>0.975]</th>  \n",
       "</tr>\n",
       "<tr>\n",
       "  <th>Intercept</th>            <td>    6.6303</td> <td>    0.065</td> <td>  102.223</td> <td> 0.000</td> <td>    6.503</td> <td>    6.757</td>\n",
       "</tr>\n",
       "<tr>\n",
       "  <th>C(race)[T.2]</th>         <td>    0.3570</td> <td>    0.032</td> <td>   11.215</td> <td> 0.000</td> <td>    0.295</td> <td>    0.419</td>\n",
       "</tr>\n",
       "<tr>\n",
       "  <th>C(race)[T.3]</th>         <td>    0.2665</td> <td>    0.051</td> <td>    5.175</td> <td> 0.000</td> <td>    0.166</td> <td>    0.367</td>\n",
       "</tr>\n",
       "<tr>\n",
       "  <th>babysex == 1[T.True]</th> <td>    0.2952</td> <td>    0.026</td> <td>   11.216</td> <td> 0.000</td> <td>    0.244</td> <td>    0.347</td>\n",
       "</tr>\n",
       "<tr>\n",
       "  <th>nbrnaliv > 1[T.True]</th> <td>   -1.3783</td> <td>    0.108</td> <td>  -12.771</td> <td> 0.000</td> <td>   -1.590</td> <td>   -1.167</td>\n",
       "</tr>\n",
       "<tr>\n",
       "  <th>paydu == 1[T.True]</th>   <td>    0.1196</td> <td>    0.031</td> <td>    3.861</td> <td> 0.000</td> <td>    0.059</td> <td>    0.180</td>\n",
       "</tr>\n",
       "<tr>\n",
       "  <th>agepreg</th>              <td>    0.0074</td> <td>    0.003</td> <td>    2.921</td> <td> 0.004</td> <td>    0.002</td> <td>    0.012</td>\n",
       "</tr>\n",
       "<tr>\n",
       "  <th>totincr</th>              <td>    0.0122</td> <td>    0.004</td> <td>    3.110</td> <td> 0.002</td> <td>    0.005</td> <td>    0.020</td>\n",
       "</tr>\n",
       "</table>\n",
       "<table class=\"simpletable\">\n",
       "<tr>\n",
       "  <th>Omnibus:</th>       <td>398.813</td> <th>  Durbin-Watson:     </th> <td>   1.604</td> \n",
       "</tr>\n",
       "<tr>\n",
       "  <th>Prob(Omnibus):</th> <td> 0.000</td>  <th>  Jarque-Bera (JB):  </th> <td>1388.362</td> \n",
       "</tr>\n",
       "<tr>\n",
       "  <th>Skew:</th>          <td>-0.037</td>  <th>  Prob(JB):          </th> <td>3.32e-302</td>\n",
       "</tr>\n",
       "<tr>\n",
       "  <th>Kurtosis:</th>      <td> 4.947</td>  <th>  Cond. No.          </th> <td>    221.</td> \n",
       "</tr>\n",
       "</table><br/><br/>Warnings:<br/>[1] Standard Errors assume that the covariance matrix of the errors is correctly specified."
      ],
      "text/plain": [
       "<class 'statsmodels.iolib.summary.Summary'>\n",
       "\"\"\"\n",
       "                            OLS Regression Results                            \n",
       "==============================================================================\n",
       "Dep. Variable:            totalwgt_lb   R-squared:                       0.060\n",
       "Model:                            OLS   Adj. R-squared:                  0.059\n",
       "Method:                 Least Squares   F-statistic:                     79.98\n",
       "Date:                Mon, 24 Feb 2020   Prob (F-statistic):          4.86e-113\n",
       "Time:                        21:24:40   Log-Likelihood:                -14295.\n",
       "No. Observations:                8781   AIC:                         2.861e+04\n",
       "Df Residuals:                    8773   BIC:                         2.866e+04\n",
       "Df Model:                           7                                         \n",
       "Covariance Type:            nonrobust                                         \n",
       "========================================================================================\n",
       "                           coef    std err          t      P>|t|      [0.025      0.975]\n",
       "----------------------------------------------------------------------------------------\n",
       "Intercept                6.6303      0.065    102.223      0.000       6.503       6.757\n",
       "C(race)[T.2]             0.3570      0.032     11.215      0.000       0.295       0.419\n",
       "C(race)[T.3]             0.2665      0.051      5.175      0.000       0.166       0.367\n",
       "babysex == 1[T.True]     0.2952      0.026     11.216      0.000       0.244       0.347\n",
       "nbrnaliv > 1[T.True]    -1.3783      0.108    -12.771      0.000      -1.590      -1.167\n",
       "paydu == 1[T.True]       0.1196      0.031      3.861      0.000       0.059       0.180\n",
       "agepreg                  0.0074      0.003      2.921      0.004       0.002       0.012\n",
       "totincr                  0.0122      0.004      3.110      0.002       0.005       0.020\n",
       "==============================================================================\n",
       "Omnibus:                      398.813   Durbin-Watson:                   1.604\n",
       "Prob(Omnibus):                  0.000   Jarque-Bera (JB):             1388.362\n",
       "Skew:                          -0.037   Prob(JB):                    3.32e-302\n",
       "Kurtosis:                       4.947   Cond. No.                         221.\n",
       "==============================================================================\n",
       "\n",
       "Warnings:\n",
       "[1] Standard Errors assume that the covariance matrix of the errors is correctly specified.\n",
       "\"\"\""
      ]
     },
     "execution_count": 41,
     "metadata": {},
     "output_type": "execute_result"
    }
   ],
   "source": [
    "formula = ('totalwgt_lb ~ agepreg + C(race) + babysex==1 + '\n",
    "               'nbrnaliv>1 + paydu==1 + totincr')\n",
    "results = smf.ols(formula, data=join).fit()\n",
    "results.summary()"
   ]
  },
  {
   "cell_type": "markdown",
   "metadata": {},
   "source": [
    "## Logistic regression\n",
    "\n",
    "Example: suppose we are trying to predict `y` using explanatory variables `x1` and `x2`."
   ]
  },
  {
   "cell_type": "code",
   "execution_count": 6,
   "metadata": {},
   "outputs": [],
   "source": [
    "y = np.array([0, 1, 0, 1])\n",
    "x1 = np.array([0, 0, 0, 1])\n",
    "x2 = np.array([0, 1, 1, 1])"
   ]
  },
  {
   "cell_type": "markdown",
   "metadata": {},
   "source": [
    "According to the logit model the log odds for the $i$th element of $y$ is\n",
    "\n",
    "$\\log o = \\beta_0 + \\beta_1 x_1 + \\beta_2 x_2 $\n",
    "\n",
    "So let's start with an arbitrary guess about the elements of $\\beta$:\n",
    "\n"
   ]
  },
  {
   "cell_type": "code",
   "execution_count": 7,
   "metadata": {},
   "outputs": [],
   "source": [
    "beta = [-1.5, 2.8, 1.1]"
   ]
  },
  {
   "cell_type": "markdown",
   "metadata": {},
   "source": [
    "Plugging in the model, we get log odds."
   ]
  },
  {
   "cell_type": "code",
   "execution_count": 12,
   "metadata": {},
   "outputs": [
    {
     "name": "stdout",
     "output_type": "stream",
     "text": [
      "-1.5\n",
      "[0.  0.  0.  2.8]\n",
      "[0.  1.1 1.1 1.1]\n",
      "[-1.5 -0.4 -0.4  2.4]\n"
     ]
    }
   ],
   "source": [
    "log_o = beta[0] + beta[1] * x1 + beta[2] * x2\n",
    "print(beta[0])\n",
    "print(beta[1] * x1)\n",
    "print(beta[2] * x2)\n",
    "print(log_o)"
   ]
  },
  {
   "cell_type": "markdown",
   "metadata": {},
   "source": [
    "Which we can convert to odds."
   ]
  },
  {
   "cell_type": "code",
   "execution_count": 13,
   "metadata": {},
   "outputs": [
    {
     "data": {
      "text/plain": [
       "array([ 0.22313016,  0.67032005,  0.67032005, 11.02317638])"
      ]
     },
     "execution_count": 13,
     "metadata": {},
     "output_type": "execute_result"
    }
   ],
   "source": [
    "o = np.exp(log_o)\n",
    "o"
   ]
  },
  {
   "cell_type": "markdown",
   "metadata": {},
   "source": [
    "And then convert to probabilities."
   ]
  },
  {
   "cell_type": "code",
   "execution_count": 14,
   "metadata": {},
   "outputs": [
    {
     "data": {
      "text/plain": [
       "array([0.18242552, 0.40131234, 0.40131234, 0.9168273 ])"
      ]
     },
     "execution_count": 14,
     "metadata": {},
     "output_type": "execute_result"
    }
   ],
   "source": [
    "p = o / (o+1)\n",
    "p"
   ]
  },
  {
   "cell_type": "markdown",
   "metadata": {},
   "source": [
    "The likelihoods of the actual outcomes are $p$ where $y$ is 1 and $1-p$ where $y$ is 0. "
   ]
  },
  {
   "cell_type": "code",
   "execution_count": 24,
   "metadata": {},
   "outputs": [
    {
     "data": {
      "text/plain": [
       "array([0.81757448, 0.40131234, 0.59868766, 0.9168273 ])"
      ]
     },
     "execution_count": 24,
     "metadata": {},
     "output_type": "execute_result"
    }
   ],
   "source": [
    "likes = np.where(y, p, 1-p)\n",
    "likes"
   ]
  },
  {
   "cell_type": "markdown",
   "metadata": {},
   "source": [
    "The likelihood of $y$ given $\\beta$ is the product of `likes`:"
   ]
  },
  {
   "cell_type": "code",
   "execution_count": 25,
   "metadata": {},
   "outputs": [
    {
     "data": {
      "text/plain": [
       "0.1800933529673034"
      ]
     },
     "execution_count": 25,
     "metadata": {},
     "output_type": "execute_result"
    }
   ],
   "source": [
    "like = np.prod(likes)\n",
    "like"
   ]
  },
  {
   "cell_type": "markdown",
   "metadata": {},
   "source": [
    "Logistic regression works by searching for the values in $\\beta$ that maximize `like`.\n",
    "\n",
    "Here's an example using variables in the NSFG respondent file to predict whether a baby will be a boy or a girl."
   ]
  },
  {
   "cell_type": "code",
   "execution_count": 26,
   "metadata": {},
   "outputs": [],
   "source": [
    "import first\n",
    "live, firsts, others = first.MakeFrames()\n",
    "live = live[live.prglngth>30]\n",
    "live['boy'] = (live.babysex==1).astype(int)"
   ]
  },
  {
   "cell_type": "markdown",
   "metadata": {},
   "source": [
    "The mother's age seems to have a small effect."
   ]
  },
  {
   "cell_type": "code",
   "execution_count": 27,
   "metadata": {},
   "outputs": [
    {
     "name": "stdout",
     "output_type": "stream",
     "text": [
      "Optimization terminated successfully.\n",
      "         Current function value: 0.693015\n",
      "         Iterations 3\n"
     ]
    },
    {
     "data": {
      "text/html": [
       "<table class=\"simpletable\">\n",
       "<caption>Logit Regression Results</caption>\n",
       "<tr>\n",
       "  <th>Dep. Variable:</th>        <td>boy</td>       <th>  No. Observations:  </th>  <td>  8884</td>  \n",
       "</tr>\n",
       "<tr>\n",
       "  <th>Model:</th>               <td>Logit</td>      <th>  Df Residuals:      </th>  <td>  8882</td>  \n",
       "</tr>\n",
       "<tr>\n",
       "  <th>Method:</th>               <td>MLE</td>       <th>  Df Model:          </th>  <td>     1</td>  \n",
       "</tr>\n",
       "<tr>\n",
       "  <th>Date:</th>          <td>Mon, 25 Feb 2019</td> <th>  Pseudo R-squ.:     </th> <td>6.144e-06</td>\n",
       "</tr>\n",
       "<tr>\n",
       "  <th>Time:</th>              <td>16:35:05</td>     <th>  Log-Likelihood:    </th> <td> -6156.7</td> \n",
       "</tr>\n",
       "<tr>\n",
       "  <th>converged:</th>           <td>True</td>       <th>  LL-Null:           </th> <td> -6156.8</td> \n",
       "</tr>\n",
       "<tr>\n",
       "  <th> </th>                      <td> </td>        <th>  LLR p-value:       </th>  <td>0.7833</td>  \n",
       "</tr>\n",
       "</table>\n",
       "<table class=\"simpletable\">\n",
       "<tr>\n",
       "      <td></td>         <th>coef</th>     <th>std err</th>      <th>z</th>      <th>P>|z|</th>  <th>[0.025</th>    <th>0.975]</th>  \n",
       "</tr>\n",
       "<tr>\n",
       "  <th>Intercept</th> <td>    0.0058</td> <td>    0.098</td> <td>    0.059</td> <td> 0.953</td> <td>   -0.185</td> <td>    0.197</td>\n",
       "</tr>\n",
       "<tr>\n",
       "  <th>agepreg</th>   <td>    0.0010</td> <td>    0.004</td> <td>    0.275</td> <td> 0.783</td> <td>   -0.006</td> <td>    0.009</td>\n",
       "</tr>\n",
       "</table>"
      ],
      "text/plain": [
       "<class 'statsmodels.iolib.summary.Summary'>\n",
       "\"\"\"\n",
       "                           Logit Regression Results                           \n",
       "==============================================================================\n",
       "Dep. Variable:                    boy   No. Observations:                 8884\n",
       "Model:                          Logit   Df Residuals:                     8882\n",
       "Method:                           MLE   Df Model:                            1\n",
       "Date:                Mon, 25 Feb 2019   Pseudo R-squ.:               6.144e-06\n",
       "Time:                        16:35:05   Log-Likelihood:                -6156.7\n",
       "converged:                       True   LL-Null:                       -6156.8\n",
       "                                        LLR p-value:                    0.7833\n",
       "==============================================================================\n",
       "                 coef    std err          z      P>|z|      [0.025      0.975]\n",
       "------------------------------------------------------------------------------\n",
       "Intercept      0.0058      0.098      0.059      0.953      -0.185       0.197\n",
       "agepreg        0.0010      0.004      0.275      0.783      -0.006       0.009\n",
       "==============================================================================\n",
       "\"\"\""
      ]
     },
     "execution_count": 27,
     "metadata": {},
     "output_type": "execute_result"
    }
   ],
   "source": [
    "model = smf.logit('boy ~ agepreg', data=live)\n",
    "results = model.fit()\n",
    "results.summary()"
   ]
  },
  {
   "cell_type": "markdown",
   "metadata": {},
   "source": [
    "Here are the variables that seemed most promising."
   ]
  },
  {
   "cell_type": "code",
   "execution_count": 28,
   "metadata": {},
   "outputs": [
    {
     "name": "stdout",
     "output_type": "stream",
     "text": [
      "Optimization terminated successfully.\n",
      "         Current function value: 0.692944\n",
      "         Iterations 3\n"
     ]
    },
    {
     "data": {
      "text/html": [
       "<table class=\"simpletable\">\n",
       "<caption>Logit Regression Results</caption>\n",
       "<tr>\n",
       "  <th>Dep. Variable:</th>        <td>boy</td>       <th>  No. Observations:  </th>  <td>  8782</td>  \n",
       "</tr>\n",
       "<tr>\n",
       "  <th>Model:</th>               <td>Logit</td>      <th>  Df Residuals:      </th>  <td>  8776</td>  \n",
       "</tr>\n",
       "<tr>\n",
       "  <th>Method:</th>               <td>MLE</td>       <th>  Df Model:          </th>  <td>     5</td>  \n",
       "</tr>\n",
       "<tr>\n",
       "  <th>Date:</th>          <td>Mon, 25 Feb 2019</td> <th>  Pseudo R-squ.:     </th> <td>0.0001440</td>\n",
       "</tr>\n",
       "<tr>\n",
       "  <th>Time:</th>              <td>16:35:05</td>     <th>  Log-Likelihood:    </th> <td> -6085.4</td> \n",
       "</tr>\n",
       "<tr>\n",
       "  <th>converged:</th>           <td>True</td>       <th>  LL-Null:           </th> <td> -6086.3</td> \n",
       "</tr>\n",
       "<tr>\n",
       "  <th> </th>                      <td> </td>        <th>  LLR p-value:       </th>  <td>0.8822</td>  \n",
       "</tr>\n",
       "</table>\n",
       "<table class=\"simpletable\">\n",
       "<tr>\n",
       "        <td></td>          <th>coef</th>     <th>std err</th>      <th>z</th>      <th>P>|z|</th>  <th>[0.025</th>    <th>0.975]</th>  \n",
       "</tr>\n",
       "<tr>\n",
       "  <th>Intercept</th>    <td>   -0.0301</td> <td>    0.104</td> <td>   -0.290</td> <td> 0.772</td> <td>   -0.234</td> <td>    0.173</td>\n",
       "</tr>\n",
       "<tr>\n",
       "  <th>C(race)[T.2]</th> <td>   -0.0224</td> <td>    0.051</td> <td>   -0.439</td> <td> 0.660</td> <td>   -0.122</td> <td>    0.077</td>\n",
       "</tr>\n",
       "<tr>\n",
       "  <th>C(race)[T.3]</th> <td>   -0.0005</td> <td>    0.083</td> <td>   -0.005</td> <td> 0.996</td> <td>   -0.163</td> <td>    0.162</td>\n",
       "</tr>\n",
       "<tr>\n",
       "  <th>agepreg</th>      <td>   -0.0027</td> <td>    0.006</td> <td>   -0.484</td> <td> 0.629</td> <td>   -0.014</td> <td>    0.008</td>\n",
       "</tr>\n",
       "<tr>\n",
       "  <th>hpagelb</th>      <td>    0.0047</td> <td>    0.004</td> <td>    1.112</td> <td> 0.266</td> <td>   -0.004</td> <td>    0.013</td>\n",
       "</tr>\n",
       "<tr>\n",
       "  <th>birthord</th>     <td>    0.0050</td> <td>    0.022</td> <td>    0.227</td> <td> 0.821</td> <td>   -0.038</td> <td>    0.048</td>\n",
       "</tr>\n",
       "</table>"
      ],
      "text/plain": [
       "<class 'statsmodels.iolib.summary.Summary'>\n",
       "\"\"\"\n",
       "                           Logit Regression Results                           \n",
       "==============================================================================\n",
       "Dep. Variable:                    boy   No. Observations:                 8782\n",
       "Model:                          Logit   Df Residuals:                     8776\n",
       "Method:                           MLE   Df Model:                            5\n",
       "Date:                Mon, 25 Feb 2019   Pseudo R-squ.:               0.0001440\n",
       "Time:                        16:35:05   Log-Likelihood:                -6085.4\n",
       "converged:                       True   LL-Null:                       -6086.3\n",
       "                                        LLR p-value:                    0.8822\n",
       "================================================================================\n",
       "                   coef    std err          z      P>|z|      [0.025      0.975]\n",
       "--------------------------------------------------------------------------------\n",
       "Intercept       -0.0301      0.104     -0.290      0.772      -0.234       0.173\n",
       "C(race)[T.2]    -0.0224      0.051     -0.439      0.660      -0.122       0.077\n",
       "C(race)[T.3]    -0.0005      0.083     -0.005      0.996      -0.163       0.162\n",
       "agepreg         -0.0027      0.006     -0.484      0.629      -0.014       0.008\n",
       "hpagelb          0.0047      0.004      1.112      0.266      -0.004       0.013\n",
       "birthord         0.0050      0.022      0.227      0.821      -0.038       0.048\n",
       "================================================================================\n",
       "\"\"\""
      ]
     },
     "execution_count": 28,
     "metadata": {},
     "output_type": "execute_result"
    }
   ],
   "source": [
    "formula = 'boy ~ agepreg + hpagelb + birthord + C(race)'\n",
    "model = smf.logit(formula, data=live)\n",
    "results = model.fit()\n",
    "results.summary()"
   ]
  },
  {
   "cell_type": "markdown",
   "metadata": {},
   "source": [
    "To make a prediction, we have to extract the exogenous and endogenous variables."
   ]
  },
  {
   "cell_type": "code",
   "execution_count": 29,
   "metadata": {},
   "outputs": [],
   "source": [
    "endog = pd.DataFrame(model.endog, columns=[model.endog_names])\n",
    "exog = pd.DataFrame(model.exog, columns=model.exog_names)"
   ]
  },
  {
   "cell_type": "markdown",
   "metadata": {},
   "source": [
    "The baseline prediction strategy is to guess \"boy\".  In that case, we're right almost 51% of the time."
   ]
  },
  {
   "cell_type": "code",
   "execution_count": 30,
   "metadata": {},
   "outputs": [
    {
     "data": {
      "text/plain": [
       "0.507173764518333"
      ]
     },
     "execution_count": 30,
     "metadata": {},
     "output_type": "execute_result"
    }
   ],
   "source": [
    "actual = endog['boy']\n",
    "baseline = actual.mean()\n",
    "baseline"
   ]
  },
  {
   "cell_type": "markdown",
   "metadata": {},
   "source": [
    "If we use the previous model, we can compute the number of predictions we get right."
   ]
  },
  {
   "cell_type": "code",
   "execution_count": 31,
   "metadata": {},
   "outputs": [
    {
     "data": {
      "text/plain": [
       "(3944.0, 548.0)"
      ]
     },
     "execution_count": 31,
     "metadata": {},
     "output_type": "execute_result"
    }
   ],
   "source": [
    "predict = (results.predict() >= 0.5)\n",
    "true_pos = predict * actual\n",
    "true_neg = (1 - predict) * (1 - actual)\n",
    "sum(true_pos), sum(true_neg)"
   ]
  },
  {
   "cell_type": "markdown",
   "metadata": {},
   "source": [
    "And the accuracy, which is slightly higher than the baseline."
   ]
  },
  {
   "cell_type": "code",
   "execution_count": 32,
   "metadata": {},
   "outputs": [
    {
     "data": {
      "text/plain": [
       "0.5115007970849464"
      ]
     },
     "execution_count": 32,
     "metadata": {},
     "output_type": "execute_result"
    }
   ],
   "source": [
    "acc = (sum(true_pos) + sum(true_neg)) / len(actual)\n",
    "acc"
   ]
  },
  {
   "cell_type": "markdown",
   "metadata": {},
   "source": [
    "To make a prediction for an individual, we have to get their information into a `DataFrame`."
   ]
  },
  {
   "cell_type": "code",
   "execution_count": 33,
   "metadata": {},
   "outputs": [
    {
     "data": {
      "text/plain": [
       "0    0.513091\n",
       "dtype: float64"
      ]
     },
     "execution_count": 33,
     "metadata": {},
     "output_type": "execute_result"
    }
   ],
   "source": [
    "columns = ['agepreg', 'hpagelb', 'birthord', 'race']\n",
    "new = pd.DataFrame([[35, 39, 3, 2]], columns=columns)\n",
    "y = results.predict(new)\n",
    "y"
   ]
  },
  {
   "cell_type": "markdown",
   "metadata": {},
   "source": [
    "This person has a 51% chance of having a boy (according to the model)."
   ]
  },
  {
   "cell_type": "markdown",
   "metadata": {
    "collapsed": true
   },
   "source": [
    "## Exercises"
   ]
  },
  {
   "cell_type": "markdown",
   "metadata": {
    "collapsed": true
   },
   "source": [
    "**Exercise:** Suppose one of your co-workers is expecting a baby and you are participating in an office pool to predict the date of birth. Assuming that bets are placed during the 30th week of pregnancy, what variables could you use to make the best prediction? You should limit yourself to variables that are known before the birth, and likely to be available to the people in the pool."
   ]
  },
  {
   "cell_type": "code",
   "execution_count": 34,
   "metadata": {},
   "outputs": [],
   "source": [
    "import first\n",
    "live, firsts, others = first.MakeFrames()\n",
    "live = live[live.prglngth>30]"
   ]
  },
  {
   "cell_type": "markdown",
   "metadata": {},
   "source": [
    "The following are the only variables I found that have a statistically significant effect on pregnancy length."
   ]
  },
  {
   "cell_type": "code",
   "execution_count": 35,
   "metadata": {},
   "outputs": [
    {
     "data": {
      "text/html": [
       "<table class=\"simpletable\">\n",
       "<caption>OLS Regression Results</caption>\n",
       "<tr>\n",
       "  <th>Dep. Variable:</th>        <td>prglngth</td>     <th>  R-squared:         </th> <td>   0.011</td> \n",
       "</tr>\n",
       "<tr>\n",
       "  <th>Model:</th>                   <td>OLS</td>       <th>  Adj. R-squared:    </th> <td>   0.011</td> \n",
       "</tr>\n",
       "<tr>\n",
       "  <th>Method:</th>             <td>Least Squares</td>  <th>  F-statistic:       </th> <td>   34.28</td> \n",
       "</tr>\n",
       "<tr>\n",
       "  <th>Date:</th>             <td>Mon, 25 Feb 2019</td> <th>  Prob (F-statistic):</th> <td>5.09e-22</td> \n",
       "</tr>\n",
       "<tr>\n",
       "  <th>Time:</th>                 <td>16:35:08</td>     <th>  Log-Likelihood:    </th> <td> -18247.</td> \n",
       "</tr>\n",
       "<tr>\n",
       "  <th>No. Observations:</th>      <td>  8884</td>      <th>  AIC:               </th> <td>3.650e+04</td>\n",
       "</tr>\n",
       "<tr>\n",
       "  <th>Df Residuals:</th>          <td>  8880</td>      <th>  BIC:               </th> <td>3.653e+04</td>\n",
       "</tr>\n",
       "<tr>\n",
       "  <th>Df Model:</th>              <td>     3</td>      <th>                     </th>     <td> </td>    \n",
       "</tr>\n",
       "<tr>\n",
       "  <th>Covariance Type:</th>      <td>nonrobust</td>    <th>                     </th>     <td> </td>    \n",
       "</tr>\n",
       "</table>\n",
       "<table class=\"simpletable\">\n",
       "<tr>\n",
       "            <td></td>               <th>coef</th>     <th>std err</th>      <th>t</th>      <th>P>|t|</th>  <th>[0.025</th>    <th>0.975]</th>  \n",
       "</tr>\n",
       "<tr>\n",
       "  <th>Intercept</th>             <td>   38.7617</td> <td>    0.039</td> <td> 1006.410</td> <td> 0.000</td> <td>   38.686</td> <td>   38.837</td>\n",
       "</tr>\n",
       "<tr>\n",
       "  <th>birthord == 1[T.True]</th> <td>    0.1015</td> <td>    0.040</td> <td>    2.528</td> <td> 0.011</td> <td>    0.023</td> <td>    0.180</td>\n",
       "</tr>\n",
       "<tr>\n",
       "  <th>race == 2[T.True]</th>     <td>    0.1390</td> <td>    0.042</td> <td>    3.311</td> <td> 0.001</td> <td>    0.057</td> <td>    0.221</td>\n",
       "</tr>\n",
       "<tr>\n",
       "  <th>nbrnaliv > 1[T.True]</th>  <td>   -1.4944</td> <td>    0.164</td> <td>   -9.086</td> <td> 0.000</td> <td>   -1.817</td> <td>   -1.172</td>\n",
       "</tr>\n",
       "</table>\n",
       "<table class=\"simpletable\">\n",
       "<tr>\n",
       "  <th>Omnibus:</th>       <td>1587.470</td> <th>  Durbin-Watson:     </th> <td>   1.619</td>\n",
       "</tr>\n",
       "<tr>\n",
       "  <th>Prob(Omnibus):</th>  <td> 0.000</td>  <th>  Jarque-Bera (JB):  </th> <td>6160.751</td>\n",
       "</tr>\n",
       "<tr>\n",
       "  <th>Skew:</th>           <td>-0.852</td>  <th>  Prob(JB):          </th> <td>    0.00</td>\n",
       "</tr>\n",
       "<tr>\n",
       "  <th>Kurtosis:</th>       <td> 6.707</td>  <th>  Cond. No.          </th> <td>    10.9</td>\n",
       "</tr>\n",
       "</table><br/><br/>Warnings:<br/>[1] Standard Errors assume that the covariance matrix of the errors is correctly specified."
      ],
      "text/plain": [
       "<class 'statsmodels.iolib.summary.Summary'>\n",
       "\"\"\"\n",
       "                            OLS Regression Results                            \n",
       "==============================================================================\n",
       "Dep. Variable:               prglngth   R-squared:                       0.011\n",
       "Model:                            OLS   Adj. R-squared:                  0.011\n",
       "Method:                 Least Squares   F-statistic:                     34.28\n",
       "Date:                Mon, 25 Feb 2019   Prob (F-statistic):           5.09e-22\n",
       "Time:                        16:35:08   Log-Likelihood:                -18247.\n",
       "No. Observations:                8884   AIC:                         3.650e+04\n",
       "Df Residuals:                    8880   BIC:                         3.653e+04\n",
       "Df Model:                           3                                         \n",
       "Covariance Type:            nonrobust                                         \n",
       "=========================================================================================\n",
       "                            coef    std err          t      P>|t|      [0.025      0.975]\n",
       "-----------------------------------------------------------------------------------------\n",
       "Intercept                38.7617      0.039   1006.410      0.000      38.686      38.837\n",
       "birthord == 1[T.True]     0.1015      0.040      2.528      0.011       0.023       0.180\n",
       "race == 2[T.True]         0.1390      0.042      3.311      0.001       0.057       0.221\n",
       "nbrnaliv > 1[T.True]     -1.4944      0.164     -9.086      0.000      -1.817      -1.172\n",
       "==============================================================================\n",
       "Omnibus:                     1587.470   Durbin-Watson:                   1.619\n",
       "Prob(Omnibus):                  0.000   Jarque-Bera (JB):             6160.751\n",
       "Skew:                          -0.852   Prob(JB):                         0.00\n",
       "Kurtosis:                       6.707   Cond. No.                         10.9\n",
       "==============================================================================\n",
       "\n",
       "Warnings:\n",
       "[1] Standard Errors assume that the covariance matrix of the errors is correctly specified.\n",
       "\"\"\""
      ]
     },
     "execution_count": 35,
     "metadata": {},
     "output_type": "execute_result"
    }
   ],
   "source": [
    "import statsmodels.formula.api as smf\n",
    "model = smf.ols('prglngth ~ birthord==1 + race==2 + nbrnaliv>1', data=live)\n",
    "results = model.fit()\n",
    "results.summary()"
   ]
  },
  {
   "cell_type": "markdown",
   "metadata": {},
   "source": [
    "**Exercise:** The Trivers-Willard hypothesis suggests that for many mammals the sex ratio depends on “maternal condition”; that is, factors like the mother’s age, size, health, and social status. See https://en.wikipedia.org/wiki/Trivers-Willard_hypothesis\n",
    "\n",
    "Some studies have shown this effect among humans, but results are mixed. In this chapter we tested some variables related to these factors, but didn’t find any with a statistically significant effect on sex ratio.\n",
    "\n",
    "As an exercise, use a data mining approach to test the other variables in the pregnancy and respondent files. Can you find any factors with a substantial effect?"
   ]
  },
  {
   "cell_type": "code",
   "execution_count": 36,
   "metadata": {},
   "outputs": [],
   "source": [
    "import regression\n",
    "join = regression.JoinFemResp(live)"
   ]
  },
  {
   "cell_type": "code",
   "execution_count": 37,
   "metadata": {},
   "outputs": [],
   "source": [
    "# Solution goes here"
   ]
  },
  {
   "cell_type": "code",
   "execution_count": 38,
   "metadata": {},
   "outputs": [],
   "source": [
    "# Solution goes here"
   ]
  },
  {
   "cell_type": "code",
   "execution_count": 39,
   "metadata": {},
   "outputs": [],
   "source": [
    "# Solution goes here"
   ]
  },
  {
   "cell_type": "markdown",
   "metadata": {},
   "source": [
    "**Exercise:** If the quantity you want to predict is a count, you can use Poisson regression, which is implemented in StatsModels with a function called `poisson`. It works the same way as `ols` and `logit`. As an exercise, let’s use it to predict how many children a woman has born; in the NSFG dataset, this variable is called `numbabes`.\n",
    "\n",
    "Suppose you meet a woman who is 35 years old, black, and a college graduate whose annual household income exceeds $75,000. How many children would you predict she has born?"
   ]
  },
  {
   "cell_type": "code",
   "execution_count": 40,
   "metadata": {},
   "outputs": [],
   "source": [
    "# Solution goes here"
   ]
  },
  {
   "cell_type": "code",
   "execution_count": 41,
   "metadata": {},
   "outputs": [],
   "source": [
    "# Solution goes here"
   ]
  },
  {
   "cell_type": "markdown",
   "metadata": {},
   "source": [
    "Now we can predict the number of children for a woman who is 35 years old, black, and a college\n",
    "graduate whose annual household income exceeds $75,000"
   ]
  },
  {
   "cell_type": "code",
   "execution_count": 42,
   "metadata": {},
   "outputs": [],
   "source": [
    "# Solution goes here"
   ]
  },
  {
   "cell_type": "markdown",
   "metadata": {},
   "source": [
    "**Exercise:** If the quantity you want to predict is categorical, you can use multinomial logistic regression, which is implemented in StatsModels with a function called `mnlogit`. As an exercise, let’s use it to guess whether a woman is married, cohabitating, widowed, divorced, separated, or never married; in the NSFG dataset, marital status is encoded in a variable called `rmarital`.\n",
    "\n",
    "Suppose you meet a woman who is 25 years old, white, and a high school graduate whose annual household income is about $45,000. What is the probability that she is married, cohabitating, etc?"
   ]
  },
  {
   "cell_type": "code",
   "execution_count": 43,
   "metadata": {},
   "outputs": [],
   "source": [
    "# Solution goes here"
   ]
  },
  {
   "cell_type": "markdown",
   "metadata": {},
   "source": [
    "Make a prediction for a woman who is 25 years old, white, and a high\n",
    "school graduate whose annual household income is about $45,000."
   ]
  },
  {
   "cell_type": "code",
   "execution_count": 44,
   "metadata": {},
   "outputs": [],
   "source": [
    "# Solution goes here"
   ]
  },
  {
   "cell_type": "markdown",
   "metadata": {},
   "source": []
  },
  {
   "cell_type": "code",
   "execution_count": null,
   "metadata": {},
   "outputs": [],
   "source": []
  }
 ],
 "metadata": {
  "kernelspec": {
   "display_name": "Python 3",
   "language": "python",
   "name": "python3"
  },
  "language_info": {
   "codemirror_mode": {
    "name": "ipython",
    "version": 3
   },
   "file_extension": ".py",
   "mimetype": "text/x-python",
   "name": "python",
   "nbconvert_exporter": "python",
   "pygments_lexer": "ipython3",
   "version": "3.7.3"
  }
 },
 "nbformat": 4,
 "nbformat_minor": 1
}
